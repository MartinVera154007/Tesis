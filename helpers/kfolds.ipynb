{
  "nbformat": 4,
  "nbformat_minor": 0,
  "metadata": {
    "colab": {
      "name": "kfolds.ipynb",
      "provenance": [],
      "collapsed_sections": []
    },
    "kernelspec": {
      "name": "python3",
      "display_name": "Python 3"
    },
    "language_info": {
      "name": "python"
    },
    "accelerator": "GPU"
  },
  "cells": [
    {
      "cell_type": "code",
      "metadata": {
        "id": "P3rJLs6DLn8E"
      },
      "source": [
        "!unzip /content/drive/MyDrive/ava.zip -d /content/ava1"
      ],
      "execution_count": null,
      "outputs": []
    },
    {
      "cell_type": "code",
      "metadata": {
        "id": "jq9h0TGIPmDK"
      },
      "source": [
        "!mv /content/ava1/content/ava1/valid/complementary_colors/* /content/ava1/content/ava1/train/complementary_colors\n",
        "!mv /content/ava1/content/ava1/valid/dutones/* /content/ava1/content/ava1/train/dutones\n",
        "!mv /content/ava1/content/ava1/valid/hdr/* /content/ava1/content/ava1/train/hdr\n",
        "!mv /content/ava1/content/ava1/valid/image_grain/* /content/ava1/content/ava1/train/image_grain\n",
        "!mv /content/ava1/content/ava1/valid/light_on_white/* /content/ava1/content/ava1/train/light_on_white\n",
        "!mv /content/ava1/content/ava1/valid/long_exposure/* /content/ava1/content/ava1/train/long_exposure\n",
        "!mv /content/ava1/content/ava1/valid/macro/* /content/ava1/content/ava1/train/macro\n",
        "!mv /content/ava1/content/ava1/valid/motion_blur/* /content/ava1/content/ava1/train/motion_blur\n",
        "!mv /content/ava1/content/ava1/valid/negative_image/* /content/ava1/content/ava1/train/negative_image\n",
        "!mv /content/ava1/content/ava1/valid/rule_of_thirds/* /content/ava1/content/ava1/train/rule_of_thirds\n",
        "!mv /content/ava1/content/ava1/valid/shallow_dof/* /content/ava1/content/ava1/train/shallow_dof\n",
        "!mv /content/ava1/content/ava1/valid/silhouttes/* /content/ava1/content/ava1/train/silhouttes\n",
        "!mv /content/ava1/content/ava1/valid/soft_focus/* /content/ava1/content/ava1/train/soft_focus\n",
        "!mv /content/ava1/content/ava1/valid/vanishing_point/* /content/ava1/content/ava1/train/vanishing_point\n",
        "\n",
        "!mv /content/ava1/content/ava1/test/complementary_colors/* /content/ava1/content/ava1/train/complementary_colors\n",
        "!mv /content/ava1/content/ava1/test/dutones/* /content/ava1/content/ava1/train/dutones\n",
        "!mv /content/ava1/content/ava1/test/hdr/* /content/ava1/content/ava1/train/hdr\n",
        "!mv /content/ava1/content/ava1/test/image_grain/* /content/ava1/content/ava1/train/image_grain\n",
        "!mv /content/ava1/content/ava1/test/light_on_white/* /content/ava1/content/ava1/train/light_on_white\n",
        "!mv /content/ava1/content/ava1/test/long_exposure/* /content/ava1/content/ava1/train/long_exposure\n",
        "!mv /content/ava1/content/ava1/test/macro/* /content/ava1/content/ava1/train/macro\n",
        "!mv /content/ava1/content/ava1/test/motion_blur/* /content/ava1/content/ava1/train/motion_blur\n",
        "!mv /content/ava1/content/ava1/test/negative_image/* /content/ava1/content/ava1/train/negative_image\n",
        "!mv /content/ava1/content/ava1/test/rule_of_thirds/* /content/ava1/content/ava1/train/rule_of_thirds\n",
        "!mv /content/ava1/content/ava1/test/shallow_dof/* /content/ava1/content/ava1/train/shallow_dof\n",
        "!mv /content/ava1/content/ava1/test/silhouttes/* /content/ava1/content/ava1/train/silhouttes\n",
        "!mv /content/ava1/content/ava1/test/soft_focus/* /content/ava1/content/ava1/train/soft_focus\n",
        "!mv /content/ava1/content/ava1/test/vanishing_point/* /content/ava1/content/ava1/train/vanishing_point"
      ],
      "execution_count": null,
      "outputs": []
    },
    {
      "cell_type": "code",
      "metadata": {
        "id": "eMUf5D-ZLL42"
      },
      "source": [
        "import numpy as np \n",
        "from sklearn.metrics import accuracy_score, f1_score, precision_score, confusion_matrix, average_precision_score\n",
        "from sklearn.preprocessing import label_binarize\n",
        "from sklearn.model_selection import StratifiedKFold\n",
        "from PIL import Image\n",
        "import random\n",
        "import tensorflow as tf\n",
        "from tensorflow import keras\n",
        "from tensorflow.keras import layers\n",
        "from tensorflow.keras.models import Sequential\n",
        "from tensorflow.keras.layers import Dense\n",
        "from tensorflow.keras.optimizers import Adam\n",
        "from keras.preprocessing.image import ImageDataGenerator\n",
        "from tensorflow.keras.layers import Dropout\n",
        "from tensorflow.keras.layers import Flatten\n",
        "from tensorflow.keras.layers import Conv2D\n",
        "from tensorflow.keras.layers import MaxPooling2D\n",
        "from tensorflow.compat.v1 import ConfigProto\n",
        "from tensorflow.compat.v1 import InteractiveSession\n",
        "import warnings\n",
        "import os\n",
        "import shutil\n",
        "from PIL import ImageFile\n",
        "warnings.simplefilter('error', Image.DecompressionBombWarning)\n",
        "ImageFile.LOAD_TRUNCATED_IMAGES = True\n",
        "from PIL import Image\n",
        "Image.MAX_IMAGE_PIXELS = 1000000000"
      ],
      "execution_count": null,
      "outputs": []
    },
    {
      "cell_type": "code",
      "metadata": {
        "id": "ntHdbjCKMF0k"
      },
      "source": [
        "### CONFIG ###\n",
        "config = ConfigProto()\n",
        "config.gpu_options.allow_growth = True\n",
        "session = InteractiveSession(config=config)\n",
        "\n",
        "datasetFolderName='/content/ava1/content/ava1'\n",
        "MODEL_FILENAME=\"model_cv.h5\"\n",
        "sourceFiles=[]\n",
        "classLabels= [\n",
        "              'complementary_colors', \n",
        "              'dutones', \n",
        "              'hdr', \n",
        "              'image_grain', \n",
        "              'light_on_white', \n",
        "              'long_exposure', \n",
        "              'macro', \n",
        "              'motion_blur', \n",
        "              'negative_image', \n",
        "              'rule_of_thirds',\n",
        "              'shallow_dof',\n",
        "              'silhouttes',\n",
        "              'soft_focus',\n",
        "              'vanishing_point'\n",
        "]\n",
        "batch_size = 16\n",
        "epoch = 20"
      ],
      "execution_count": null,
      "outputs": []
    },
    {
      "cell_type": "code",
      "metadata": {
        "id": "8EU4tnUeMR6_"
      },
      "source": [
        "def transferBetweenFolders(source, dest, splitRate):   \n",
        "    global sourceFiles\n",
        "    sourceFiles=os.listdir(source)\n",
        "    if(len(sourceFiles)!=0):\n",
        "        transferFileNumbers=int(len(sourceFiles)*splitRate)\n",
        "        transferIndex=random.sample(range(0, len(sourceFiles)), transferFileNumbers)\n",
        "        for eachIndex in transferIndex:\n",
        "            shutil.move(source+str(sourceFiles[eachIndex]), dest+str(sourceFiles[eachIndex]))\n",
        "    else:\n",
        "        print(\"No file moved. Source empty!\")\n",
        "\n",
        "def transferAllClassBetweenFolders(source, dest, splitRate):\n",
        "    for label in classLabels:\n",
        "        transferBetweenFolders(datasetFolderName+'/'+source+'/'+label+'/', \n",
        "                               datasetFolderName+'/'+dest+'/'+label+'/', \n",
        "                               splitRate)"
      ],
      "execution_count": null,
      "outputs": []
    },
    {
      "cell_type": "code",
      "metadata": {
        "id": "RdJNRGHFMiVh"
      },
      "source": [
        "### Lists to save images(X) and labels(Y)\n",
        "X=[]\n",
        "Y=[]"
      ],
      "execution_count": null,
      "outputs": []
    },
    {
      "cell_type": "code",
      "metadata": {
        "id": "VVcsJMgYMomR"
      },
      "source": [
        "def prepareNameWithLabels(folderName):\n",
        "    sourceFiles=os.listdir(datasetFolderName+'/train/'+folderName)\n",
        "    for val in sourceFiles:\n",
        "        X.append(val)\n",
        "        if (folderName==classLabels[0]):\n",
        "            Y.append(0)\n",
        "        elif (folderName==classLabels[1]):\n",
        "            Y.append(1)\n",
        "        elif (folderName==classLabels[2]):\n",
        "            Y.append(2)\n",
        "        elif (folderName==classLabels[3]):\n",
        "            Y.append(3)\n",
        "        elif (folderName==classLabels[4]):\n",
        "            Y.append(4)\n",
        "        elif (folderName==classLabels[5]):\n",
        "            Y.append(5)\n",
        "        elif (folderName==classLabels[6]):\n",
        "            Y.append(6)\n",
        "        elif (folderName==classLabels[7]):\n",
        "            Y.append(7)\n",
        "        elif (folderName==classLabels[8]):\n",
        "            Y.append(8)\n",
        "        elif (folderName==classLabels[9]):\n",
        "            Y.append(9)\n",
        "        elif (folderName==classLabels[10]):\n",
        "            Y.append(10)\n",
        "        elif (folderName==classLabels[11]):\n",
        "            Y.append(11)\n",
        "        elif (folderName==classLabels[12]):\n",
        "            Y.append(12)\n",
        "        elif (folderName==classLabels[13]):\n",
        "            Y.append(13)"
      ],
      "execution_count": null,
      "outputs": []
    },
    {
      "cell_type": "code",
      "metadata": {
        "id": "0TvJRhoEMvWF"
      },
      "source": [
        "# Organize file names and class labels in X and Y variables\n",
        "prepareNameWithLabels(classLabels[0])\n",
        "prepareNameWithLabels(classLabels[1])\n",
        "prepareNameWithLabels(classLabels[2])       \n",
        "prepareNameWithLabels(classLabels[3])       \n",
        "prepareNameWithLabels(classLabels[4])       \n",
        "prepareNameWithLabels(classLabels[5])       \n",
        "prepareNameWithLabels(classLabels[6])       \n",
        "prepareNameWithLabels(classLabels[7])       \n",
        "prepareNameWithLabels(classLabels[8])       \n",
        "prepareNameWithLabels(classLabels[9])       \n",
        "prepareNameWithLabels(classLabels[10])       \n",
        "prepareNameWithLabels(classLabels[11])       \n",
        "prepareNameWithLabels(classLabels[12])       \n",
        "prepareNameWithLabels(classLabels[13])       \n",
        "\n",
        "X=np.asarray(X)\n",
        "Y=np.asarray(Y)"
      ],
      "execution_count": null,
      "outputs": []
    },
    {
      "cell_type": "code",
      "metadata": {
        "id": "DwvelH9dM0ri"
      },
      "source": [
        "def getModel():\n",
        "  densenet_model = tf.keras.applications.DenseNet201(include_top=False, input_shape=(256,256,3), weights='imagenet')\n",
        "  model = Sequential()\n",
        "  model.add(densenet_model)\n",
        "  model.add(Flatten())\n",
        "  model.add(Dropout(0.4))\n",
        "  model.add(Dense(units=264, activation='relu'))\n",
        "  model.add(Dropout(0.4))\n",
        "  model.add(Dense(units=264, activation='relu'))\n",
        "  model.add(Dropout(0.4))\n",
        "  model.add(Dense(units=14, activation='softmax'))\n",
        "\n",
        "  model.compile(optimizer=Adam(learning_rate=0.0000065), loss='categorical_crossentropy', metrics=['accuracy',tf.keras.metrics.AUC(curve='PR', multi_label=True)])\n",
        "  \n",
        "  return model"
      ],
      "execution_count": null,
      "outputs": []
    },
    {
      "cell_type": "code",
      "metadata": {
        "id": "GtRDpMmlNm9U"
      },
      "source": [
        "### Get mean average precision from predictions ###\n",
        "def my_metrics(y_true, predictions):\n",
        "    y_true_classes = label_binarize(y_true, [0,1,2,3,4,5,6,7,8,9,10,11,12,13])\n",
        "    mAP = average_precision_score(y_true_classes, predictions)\n",
        "    print(\"Mean Average Precision: {}\".format(mAP))"
      ],
      "execution_count": null,
      "outputs": []
    },
    {
      "cell_type": "code",
      "metadata": {
        "colab": {
          "base_uri": "https://localhost:8080/"
        },
        "id": "309SiwGINnnt",
        "outputId": "84d38dbb-6928-4119-dde6-d5710370027e"
      },
      "source": [
        "# Image dimensions\n",
        "img_rows, img_cols =  256, 256\n",
        "\n",
        "# Data paths\n",
        "train_path=datasetFolderName+'/train/'\n",
        "validation_path=datasetFolderName+'/validation/'\n",
        "test_path=datasetFolderName+'/test/'\n",
        "\n",
        "### Stratified K-Fold ###\n",
        "skf = StratifiedKFold(n_splits=10, shuffle=True)\n",
        "skf.get_n_splits(X, Y)\n",
        "foldNum=0\n",
        "for train_index, val_index in skf.split(X, Y):\n",
        "    model=getModel()\n",
        "    # Cut all images from validation to train (if any exists)\n",
        "    transferAllClassBetweenFolders('validation', 'train', 1.0)\n",
        "    foldNum+=1\n",
        "    print(\"Results for fold\",foldNum)\n",
        "    X_train, X_val = X[train_index], X[val_index]\n",
        "    Y_train, Y_val = Y[train_index], Y[val_index]\n",
        "    # Move validation images of this fold from train folder to the validation folder\n",
        "    for eachIndex in range(len(X_val)):\n",
        "        classLabel=''\n",
        "        if (Y_val[eachIndex]==0):\n",
        "            classLabel=classLabels[0]\n",
        "        elif (Y_val[eachIndex]==1):\n",
        "            classLabel=classLabels[1]\n",
        "        elif (Y_val[eachIndex]==2):\n",
        "            classLabel=classLabels[2]\n",
        "        elif (Y_val[eachIndex]==3):\n",
        "            classLabel=classLabels[3]\n",
        "        elif (Y_val[eachIndex]==4):\n",
        "            classLabel=classLabels[4]\n",
        "        elif (Y_val[eachIndex]==5):\n",
        "            classLabel=classLabels[5]\n",
        "        elif (Y_val[eachIndex]==6):\n",
        "            classLabel=classLabels[6]\n",
        "        elif (Y_val[eachIndex]==7):\n",
        "            classLabel=classLabels[7]\n",
        "        elif (Y_val[eachIndex]==8):\n",
        "            classLabel=classLabels[8]\n",
        "        elif (Y_val[eachIndex]==9):\n",
        "            classLabel=classLabels[9]\n",
        "        elif (Y_val[eachIndex]==10):\n",
        "            classLabel=classLabels[10]\n",
        "        elif (Y_val[eachIndex]==11):\n",
        "            classLabel=classLabels[11]\n",
        "        elif (Y_val[eachIndex]==12):\n",
        "            classLabel=classLabels[12]\n",
        "        elif (Y_val[eachIndex]==13):\n",
        "            classLabel=classLabels[13]\n",
        "\n",
        "  \n",
        "        # Copy the validation images to the validation folder\n",
        "        shutil.move(datasetFolderName+'/train/'+classLabel+'/'+X_val[eachIndex], \n",
        "                    datasetFolderName+'/validation/'+classLabel+'/'+X_val[eachIndex])\n",
        "        \n",
        "    train_datagen = ImageDataGenerator(rescale=1.0/255.0)\n",
        "    validation_datagen = ImageDataGenerator(rescale=1.0/255.0)\n",
        "    test_datagen = ImageDataGenerator(rescale=1.0/255.0)\n",
        "        \n",
        "    # Generate the batches\n",
        "    train_generator = train_datagen.flow_from_directory(\n",
        "        train_path,\n",
        "        target_size=(img_rows, img_cols),\n",
        "        batch_size=batch_size,\n",
        "        class_mode='categorical',\n",
        "        subset='training')\n",
        "\n",
        "    validation_generator = validation_datagen.flow_from_directory(\n",
        "            validation_path,\n",
        "            target_size=(img_rows, img_cols),\n",
        "            batch_size=batch_size,\n",
        "            class_mode='categorical',  # only data, no labels\n",
        "            shuffle=False)   \n",
        "   \n",
        "    # Fit the model\n",
        "    history=model.fit_generator(train_generator, \n",
        "                        epochs=epoch, validation_data=validation_generator)\n",
        "    \n",
        "    predictions = model.predict_generator(validation_generator, verbose=1)\n",
        "    yPredictions = np.argmax(predictions, axis=1)\n",
        "    true_classes = validation_generator.classes\n",
        "    \n",
        "    # Evaluate the model\n",
        "    print(\"\\n\\n***Performance on Validation data***\")    \n",
        "    my_metrics(true_classes, predictions)\n",
        "    print(\"\\n\\n\")"
      ],
      "execution_count": null,
      "outputs": [
        {
          "output_type": "stream",
          "text": [
            "Downloading data from https://storage.googleapis.com/tensorflow/keras-applications/densenet/densenet201_weights_tf_dim_ordering_tf_kernels_notop.h5\n",
            "74842112/74836368 [==============================] - 1s 0us/step\n",
            "No file moved. Source empty!\n",
            "No file moved. Source empty!\n",
            "No file moved. Source empty!\n",
            "No file moved. Source empty!\n",
            "No file moved. Source empty!\n",
            "No file moved. Source empty!\n",
            "No file moved. Source empty!\n",
            "No file moved. Source empty!\n",
            "No file moved. Source empty!\n",
            "No file moved. Source empty!\n",
            "No file moved. Source empty!\n",
            "No file moved. Source empty!\n",
            "No file moved. Source empty!\n",
            "No file moved. Source empty!\n",
            "Results for fold 1\n",
            "Found 10127 images belonging to 14 classes.\n",
            "Found 1126 images belonging to 14 classes.\n"
          ],
          "name": "stdout"
        },
        {
          "output_type": "stream",
          "text": [
            "/usr/local/lib/python3.7/dist-packages/tensorflow/python/keras/engine/training.py:1844: UserWarning: `Model.fit_generator` is deprecated and will be removed in a future version. Please use `Model.fit`, which supports generators.\n",
            "  warnings.warn('`Model.fit_generator` is deprecated and '\n"
          ],
          "name": "stderr"
        },
        {
          "output_type": "stream",
          "text": [
            "Epoch 1/20\n",
            "188/633 [=======>......................] - ETA: 1:40 - loss: 3.3121 - accuracy: 0.0876 - auc: 0.0785"
          ],
          "name": "stdout"
        },
        {
          "output_type": "stream",
          "text": [
            "/usr/local/lib/python3.7/dist-packages/PIL/TiffImagePlugin.py:770: UserWarning: Possibly corrupt EXIF data.  Expecting to read 211288080 bytes but only got 0. Skipping tag 0\n",
            "  \" Skipping tag %s\" % (size, len(data), tag)\n",
            "/usr/local/lib/python3.7/dist-packages/PIL/TiffImagePlugin.py:770: UserWarning: Possibly corrupt EXIF data.  Expecting to read 131073 bytes but only got 10470. Skipping tag 582\n",
            "  \" Skipping tag %s\" % (size, len(data), tag)\n",
            "/usr/local/lib/python3.7/dist-packages/PIL/TiffImagePlugin.py:770: UserWarning: Possibly corrupt EXIF data.  Expecting to read 196867 bytes but only got 10474. Skipping tag 0\n",
            "  \" Skipping tag %s\" % (size, len(data), tag)\n",
            "/usr/local/lib/python3.7/dist-packages/PIL/TiffImagePlugin.py:788: UserWarning: Corrupt EXIF data.  Expecting to read 12 bytes but only got 5. \n",
            "  warnings.warn(str(msg))\n"
          ],
          "name": "stderr"
        },
        {
          "output_type": "stream",
          "text": [
            "599/633 [===========================>..] - ETA: 7s - loss: 3.0152 - accuracy: 0.0998 - auc: 0.0809"
          ],
          "name": "stdout"
        },
        {
          "output_type": "stream",
          "text": [
            "/usr/local/lib/python3.7/dist-packages/PIL/TiffImagePlugin.py:770: UserWarning: Possibly corrupt EXIF data.  Expecting to read 11046 bytes but only got 749. Skipping tag 700\n",
            "  \" Skipping tag %s\" % (size, len(data), tag)\n",
            "/usr/local/lib/python3.7/dist-packages/PIL/TiffImagePlugin.py:770: UserWarning: Possibly corrupt EXIF data.  Expecting to read 9664 bytes but only got 749. Skipping tag 34377\n",
            "  \" Skipping tag %s\" % (size, len(data), tag)\n"
          ],
          "name": "stderr"
        },
        {
          "output_type": "stream",
          "text": [
            "633/633 [==============================] - 197s 250ms/step - loss: 3.0018 - accuracy: 0.1007 - auc: 0.0811 - val_loss: 2.4391 - val_accuracy: 0.2691 - val_auc: 0.2003\n",
            "Epoch 2/20\n",
            "633/633 [==============================] - 152s 239ms/step - loss: 2.4962 - accuracy: 0.1672 - auc: 0.1318 - val_loss: 2.1474 - val_accuracy: 0.3650 - val_auc: 0.2973\n",
            "Epoch 3/20\n",
            "633/633 [==============================] - 152s 240ms/step - loss: 2.2927 - accuracy: 0.2463 - auc: 0.2000 - val_loss: 1.9930 - val_accuracy: 0.4014 - val_auc: 0.3583\n",
            "Epoch 4/20\n",
            "633/633 [==============================] - 151s 239ms/step - loss: 2.1242 - accuracy: 0.2974 - auc: 0.2634 - val_loss: 1.8151 - val_accuracy: 0.4645 - val_auc: 0.4242\n",
            "Epoch 5/20\n",
            "633/633 [==============================] - 152s 239ms/step - loss: 1.9692 - accuracy: 0.3613 - auc: 0.3176 - val_loss: 1.6980 - val_accuracy: 0.4822 - val_auc: 0.4593\n",
            "Epoch 6/20\n",
            "633/633 [==============================] - 152s 240ms/step - loss: 1.8377 - accuracy: 0.4057 - auc: 0.3787 - val_loss: 1.6201 - val_accuracy: 0.5133 - val_auc: 0.4902\n",
            "Epoch 7/20\n",
            "633/633 [==============================] - 152s 239ms/step - loss: 1.6961 - accuracy: 0.4639 - auc: 0.4416 - val_loss: 1.5697 - val_accuracy: 0.5240 - val_auc: 0.5073\n",
            "Epoch 8/20\n",
            "633/633 [==============================] - 152s 239ms/step - loss: 1.5692 - accuracy: 0.4932 - auc: 0.4888 - val_loss: 1.5361 - val_accuracy: 0.5320 - val_auc: 0.5190\n",
            "Epoch 9/20\n",
            "633/633 [==============================] - 151s 239ms/step - loss: 1.4944 - accuracy: 0.5133 - auc: 0.5176 - val_loss: 1.5053 - val_accuracy: 0.5409 - val_auc: 0.5316\n",
            "Epoch 10/20\n",
            "633/633 [==============================] - 150s 237ms/step - loss: 1.4094 - accuracy: 0.5458 - auc: 0.5621 - val_loss: 1.4779 - val_accuracy: 0.5453 - val_auc: 0.5449\n",
            "Epoch 11/20\n",
            "633/633 [==============================] - 150s 237ms/step - loss: 1.3048 - accuracy: 0.5829 - auc: 0.5997 - val_loss: 1.4764 - val_accuracy: 0.5533 - val_auc: 0.5482\n",
            "Epoch 12/20\n",
            "633/633 [==============================] - 150s 237ms/step - loss: 1.2557 - accuracy: 0.5898 - auc: 0.6204 - val_loss: 1.4794 - val_accuracy: 0.5542 - val_auc: 0.5576\n",
            "Epoch 13/20\n",
            "633/633 [==============================] - 153s 241ms/step - loss: 1.1379 - accuracy: 0.6285 - auc: 0.6622 - val_loss: 1.4714 - val_accuracy: 0.5533 - val_auc: 0.5575\n",
            "Epoch 14/20\n",
            "633/633 [==============================] - 151s 239ms/step - loss: 1.0607 - accuracy: 0.6619 - auc: 0.7024 - val_loss: 1.4617 - val_accuracy: 0.5595 - val_auc: 0.5661\n",
            "Epoch 15/20\n",
            "633/633 [==============================] - 151s 238ms/step - loss: 0.9795 - accuracy: 0.6855 - auc: 0.7346 - val_loss: 1.4724 - val_accuracy: 0.5675 - val_auc: 0.5697\n",
            "Epoch 16/20\n",
            "633/633 [==============================] - 150s 237ms/step - loss: 0.8974 - accuracy: 0.7035 - auc: 0.7581 - val_loss: 1.4854 - val_accuracy: 0.5613 - val_auc: 0.5747\n",
            "Epoch 17/20\n",
            "633/633 [==============================] - 151s 238ms/step - loss: 0.8316 - accuracy: 0.7316 - auc: 0.7898 - val_loss: 1.4917 - val_accuracy: 0.5702 - val_auc: 0.5745\n",
            "Epoch 18/20\n",
            "633/633 [==============================] - 150s 238ms/step - loss: 0.7805 - accuracy: 0.7423 - auc: 0.8072 - val_loss: 1.5231 - val_accuracy: 0.5631 - val_auc: 0.5703\n",
            "Epoch 19/20\n",
            "633/633 [==============================] - 152s 241ms/step - loss: 0.6976 - accuracy: 0.7766 - auc: 0.8341 - val_loss: 1.5801 - val_accuracy: 0.5666 - val_auc: 0.5744\n",
            "Epoch 20/20\n",
            "633/633 [==============================] - 151s 239ms/step - loss: 0.5996 - accuracy: 0.8082 - auc: 0.8702 - val_loss: 1.5721 - val_accuracy: 0.5782 - val_auc: 0.5745\n"
          ],
          "name": "stdout"
        },
        {
          "output_type": "stream",
          "text": [
            "/usr/local/lib/python3.7/dist-packages/tensorflow/python/keras/engine/training.py:1905: UserWarning: `Model.predict_generator` is deprecated and will be removed in a future version. Please use `Model.predict`, which supports generators.\n",
            "  warnings.warn('`Model.predict_generator` is deprecated and '\n"
          ],
          "name": "stderr"
        },
        {
          "output_type": "stream",
          "text": [
            "71/71 [==============================] - 13s 134ms/step\n",
            "\n",
            "\n",
            "***Performance on Validation data***\n",
            "Mean Average Precision: 0.5829917915507482\n",
            "\n",
            "\n",
            "\n",
            "Results for fold 2\n",
            "Found 10127 images belonging to 14 classes.\n",
            "Found 1126 images belonging to 14 classes.\n"
          ],
          "name": "stdout"
        },
        {
          "output_type": "stream",
          "text": [
            "/usr/local/lib/python3.7/dist-packages/tensorflow/python/keras/engine/training.py:1844: UserWarning: `Model.fit_generator` is deprecated and will be removed in a future version. Please use `Model.fit`, which supports generators.\n",
            "  warnings.warn('`Model.fit_generator` is deprecated and '\n"
          ],
          "name": "stderr"
        },
        {
          "output_type": "stream",
          "text": [
            "Epoch 1/20\n",
            "337/633 [==============>...............] - ETA: 1:06 - loss: 3.1877 - accuracy: 0.0917 - auc_1: 0.0796"
          ],
          "name": "stdout"
        },
        {
          "output_type": "stream",
          "text": [
            "/usr/local/lib/python3.7/dist-packages/PIL/TiffImagePlugin.py:770: UserWarning: Possibly corrupt EXIF data.  Expecting to read 211288080 bytes but only got 0. Skipping tag 0\n",
            "  \" Skipping tag %s\" % (size, len(data), tag)\n",
            "/usr/local/lib/python3.7/dist-packages/PIL/TiffImagePlugin.py:770: UserWarning: Possibly corrupt EXIF data.  Expecting to read 131073 bytes but only got 10470. Skipping tag 582\n",
            "  \" Skipping tag %s\" % (size, len(data), tag)\n",
            "/usr/local/lib/python3.7/dist-packages/PIL/TiffImagePlugin.py:770: UserWarning: Possibly corrupt EXIF data.  Expecting to read 196867 bytes but only got 10474. Skipping tag 0\n",
            "  \" Skipping tag %s\" % (size, len(data), tag)\n",
            "/usr/local/lib/python3.7/dist-packages/PIL/TiffImagePlugin.py:788: UserWarning: Corrupt EXIF data.  Expecting to read 12 bytes but only got 5. \n",
            "  warnings.warn(str(msg))\n"
          ],
          "name": "stderr"
        },
        {
          "output_type": "stream",
          "text": [
            "397/633 [=================>............] - ETA: 52s - loss: 3.1411 - accuracy: 0.0931 - auc_1: 0.0799"
          ],
          "name": "stdout"
        },
        {
          "output_type": "stream",
          "text": [
            "/usr/local/lib/python3.7/dist-packages/PIL/TiffImagePlugin.py:770: UserWarning: Possibly corrupt EXIF data.  Expecting to read 11046 bytes but only got 749. Skipping tag 700\n",
            "  \" Skipping tag %s\" % (size, len(data), tag)\n",
            "/usr/local/lib/python3.7/dist-packages/PIL/TiffImagePlugin.py:770: UserWarning: Possibly corrupt EXIF data.  Expecting to read 9664 bytes but only got 749. Skipping tag 34377\n",
            "  \" Skipping tag %s\" % (size, len(data), tag)\n"
          ],
          "name": "stderr"
        },
        {
          "output_type": "stream",
          "text": [
            "633/633 [==============================] - 175s 244ms/step - loss: 3.0155 - accuracy: 0.0990 - auc_1: 0.0815 - val_loss: 2.4355 - val_accuracy: 0.2362 - val_auc_1: 0.1925\n",
            "Epoch 2/20\n",
            "633/633 [==============================] - 151s 238ms/step - loss: 2.4921 - accuracy: 0.1666 - auc_1: 0.1281 - val_loss: 2.1821 - val_accuracy: 0.3197 - val_auc_1: 0.2758\n",
            "Epoch 3/20\n",
            "633/633 [==============================] - 151s 238ms/step - loss: 2.3227 - accuracy: 0.2297 - auc_1: 0.1841 - val_loss: 1.9880 - val_accuracy: 0.3694 - val_auc_1: 0.3716\n",
            "Epoch 4/20\n",
            "633/633 [==============================] - 152s 239ms/step - loss: 2.1588 - accuracy: 0.2949 - auc_1: 0.2417 - val_loss: 1.8501 - val_accuracy: 0.4325 - val_auc_1: 0.4182\n",
            "Epoch 5/20\n",
            "633/633 [==============================] - 152s 239ms/step - loss: 2.0077 - accuracy: 0.3482 - auc_1: 0.2944 - val_loss: 1.7254 - val_accuracy: 0.4698 - val_auc_1: 0.4589\n",
            "Epoch 6/20\n",
            "633/633 [==============================] - 150s 238ms/step - loss: 1.8834 - accuracy: 0.3766 - auc_1: 0.3522 - val_loss: 1.6149 - val_accuracy: 0.5053 - val_auc_1: 0.4985\n",
            "Epoch 7/20\n",
            "633/633 [==============================] - 150s 237ms/step - loss: 1.7616 - accuracy: 0.4300 - auc_1: 0.4043 - val_loss: 1.5371 - val_accuracy: 0.5311 - val_auc_1: 0.5218\n",
            "Epoch 8/20\n",
            "633/633 [==============================] - 150s 237ms/step - loss: 1.6459 - accuracy: 0.4811 - auc_1: 0.4572 - val_loss: 1.4869 - val_accuracy: 0.5462 - val_auc_1: 0.5413\n",
            "Epoch 9/20\n",
            "633/633 [==============================] - 151s 238ms/step - loss: 1.4983 - accuracy: 0.5071 - auc_1: 0.5144 - val_loss: 1.4567 - val_accuracy: 0.5568 - val_auc_1: 0.5505\n",
            "Epoch 10/20\n",
            "633/633 [==============================] - 151s 238ms/step - loss: 1.4381 - accuracy: 0.5306 - auc_1: 0.5424 - val_loss: 1.4396 - val_accuracy: 0.5719 - val_auc_1: 0.5623\n",
            "Epoch 11/20\n",
            "633/633 [==============================] - 152s 240ms/step - loss: 1.3532 - accuracy: 0.5627 - auc_1: 0.5812 - val_loss: 1.4081 - val_accuracy: 0.5817 - val_auc_1: 0.5702\n",
            "Epoch 12/20\n",
            "633/633 [==============================] - 151s 239ms/step - loss: 1.2240 - accuracy: 0.6036 - auc_1: 0.6318 - val_loss: 1.4008 - val_accuracy: 0.5817 - val_auc_1: 0.5747\n",
            "Epoch 13/20\n",
            "633/633 [==============================] - 150s 238ms/step - loss: 1.1842 - accuracy: 0.6266 - auc_1: 0.6540 - val_loss: 1.4055 - val_accuracy: 0.5710 - val_auc_1: 0.5827\n",
            "Epoch 14/20\n",
            "633/633 [==============================] - 151s 239ms/step - loss: 1.0644 - accuracy: 0.6597 - auc_1: 0.7000 - val_loss: 1.4165 - val_accuracy: 0.5773 - val_auc_1: 0.5833\n",
            "Epoch 15/20\n",
            "633/633 [==============================] - 153s 241ms/step - loss: 1.0190 - accuracy: 0.6588 - auc_1: 0.7191 - val_loss: 1.4134 - val_accuracy: 0.5773 - val_auc_1: 0.5872\n",
            "Epoch 16/20\n",
            "633/633 [==============================] - 151s 239ms/step - loss: 0.9243 - accuracy: 0.7046 - auc_1: 0.7586 - val_loss: 1.4342 - val_accuracy: 0.5808 - val_auc_1: 0.5896\n",
            "Epoch 17/20\n",
            "633/633 [==============================] - 151s 239ms/step - loss: 0.8429 - accuracy: 0.7338 - auc_1: 0.7870 - val_loss: 1.4543 - val_accuracy: 0.5719 - val_auc_1: 0.5891\n",
            "Epoch 18/20\n",
            "633/633 [==============================] - 151s 239ms/step - loss: 0.7663 - accuracy: 0.7524 - auc_1: 0.8148 - val_loss: 1.4665 - val_accuracy: 0.5746 - val_auc_1: 0.5859\n",
            "Epoch 19/20\n",
            "633/633 [==============================] - 151s 238ms/step - loss: 0.7058 - accuracy: 0.7692 - auc_1: 0.8318 - val_loss: 1.4844 - val_accuracy: 0.5773 - val_auc_1: 0.5874\n",
            "Epoch 20/20\n",
            "633/633 [==============================] - 151s 238ms/step - loss: 0.6378 - accuracy: 0.7989 - auc_1: 0.8620 - val_loss: 1.5394 - val_accuracy: 0.5719 - val_auc_1: 0.5872\n"
          ],
          "name": "stdout"
        },
        {
          "output_type": "stream",
          "text": [
            "/usr/local/lib/python3.7/dist-packages/tensorflow/python/keras/engine/training.py:1905: UserWarning: `Model.predict_generator` is deprecated and will be removed in a future version. Please use `Model.predict`, which supports generators.\n",
            "  warnings.warn('`Model.predict_generator` is deprecated and '\n"
          ],
          "name": "stderr"
        },
        {
          "output_type": "stream",
          "text": [
            "71/71 [==============================] - 12s 132ms/step\n",
            "\n",
            "\n",
            "***Performance on Validation data***\n",
            "Mean Average Precision: 0.5960386365173393\n",
            "\n",
            "\n",
            "\n",
            "Results for fold 3\n",
            "Found 10127 images belonging to 14 classes.\n",
            "Found 1126 images belonging to 14 classes.\n"
          ],
          "name": "stdout"
        },
        {
          "output_type": "stream",
          "text": [
            "/usr/local/lib/python3.7/dist-packages/tensorflow/python/keras/engine/training.py:1844: UserWarning: `Model.fit_generator` is deprecated and will be removed in a future version. Please use `Model.fit`, which supports generators.\n",
            "  warnings.warn('`Model.fit_generator` is deprecated and '\n"
          ],
          "name": "stderr"
        },
        {
          "output_type": "stream",
          "text": [
            "Epoch 1/20\n",
            " 30/633 [>.............................] - ETA: 2:15 - loss: 3.9936 - accuracy: 0.0700 - auc_2: 0.0931"
          ],
          "name": "stdout"
        },
        {
          "output_type": "stream",
          "text": [
            "/usr/local/lib/python3.7/dist-packages/PIL/TiffImagePlugin.py:770: UserWarning: Possibly corrupt EXIF data.  Expecting to read 11046 bytes but only got 749. Skipping tag 700\n",
            "  \" Skipping tag %s\" % (size, len(data), tag)\n",
            "/usr/local/lib/python3.7/dist-packages/PIL/TiffImagePlugin.py:770: UserWarning: Possibly corrupt EXIF data.  Expecting to read 9664 bytes but only got 749. Skipping tag 34377\n",
            "  \" Skipping tag %s\" % (size, len(data), tag)\n"
          ],
          "name": "stderr"
        },
        {
          "output_type": "stream",
          "text": [
            "212/633 [=========>....................] - ETA: 1:34 - loss: 3.4461 - accuracy: 0.0811 - auc_2: 0.0787"
          ],
          "name": "stdout"
        },
        {
          "output_type": "stream",
          "text": [
            "/usr/local/lib/python3.7/dist-packages/PIL/TiffImagePlugin.py:770: UserWarning: Possibly corrupt EXIF data.  Expecting to read 211288080 bytes but only got 0. Skipping tag 0\n",
            "  \" Skipping tag %s\" % (size, len(data), tag)\n",
            "/usr/local/lib/python3.7/dist-packages/PIL/TiffImagePlugin.py:770: UserWarning: Possibly corrupt EXIF data.  Expecting to read 131073 bytes but only got 10470. Skipping tag 582\n",
            "  \" Skipping tag %s\" % (size, len(data), tag)\n",
            "/usr/local/lib/python3.7/dist-packages/PIL/TiffImagePlugin.py:770: UserWarning: Possibly corrupt EXIF data.  Expecting to read 196867 bytes but only got 10474. Skipping tag 0\n",
            "  \" Skipping tag %s\" % (size, len(data), tag)\n",
            "/usr/local/lib/python3.7/dist-packages/PIL/TiffImagePlugin.py:788: UserWarning: Corrupt EXIF data.  Expecting to read 12 bytes but only got 5. \n",
            "  warnings.warn(str(msg))\n"
          ],
          "name": "stderr"
        },
        {
          "output_type": "stream",
          "text": [
            "633/633 [==============================] - 176s 244ms/step - loss: 3.0778 - accuracy: 0.0952 - auc_2: 0.0820 - val_loss: 2.4200 - val_accuracy: 0.2451 - val_auc_2: 0.1998\n",
            "Epoch 2/20\n",
            "633/633 [==============================] - 152s 240ms/step - loss: 2.4695 - accuracy: 0.1706 - auc_2: 0.1351 - val_loss: 2.1694 - val_accuracy: 0.3073 - val_auc_2: 0.2719\n",
            "Epoch 3/20\n",
            "633/633 [==============================] - 151s 239ms/step - loss: 2.2954 - accuracy: 0.2411 - auc_2: 0.1913 - val_loss: 1.9823 - val_accuracy: 0.3792 - val_auc_2: 0.3480\n",
            "Epoch 4/20\n",
            "633/633 [==============================] - 151s 238ms/step - loss: 2.1336 - accuracy: 0.2930 - auc_2: 0.2518 - val_loss: 1.8360 - val_accuracy: 0.4432 - val_auc_2: 0.4015\n",
            "Epoch 5/20\n",
            "633/633 [==============================] - 151s 239ms/step - loss: 1.9678 - accuracy: 0.3542 - auc_2: 0.3129 - val_loss: 1.7311 - val_accuracy: 0.4618 - val_auc_2: 0.4351\n",
            "Epoch 6/20\n",
            "633/633 [==============================] - 151s 239ms/step - loss: 1.8553 - accuracy: 0.4016 - auc_2: 0.3701 - val_loss: 1.6428 - val_accuracy: 0.4902 - val_auc_2: 0.4636\n",
            "Epoch 7/20\n",
            "633/633 [==============================] - 151s 238ms/step - loss: 1.7310 - accuracy: 0.4430 - auc_2: 0.4157 - val_loss: 1.5842 - val_accuracy: 0.5000 - val_auc_2: 0.4896\n",
            "Epoch 8/20\n",
            "633/633 [==============================] - 152s 239ms/step - loss: 1.6359 - accuracy: 0.4724 - auc_2: 0.4544 - val_loss: 1.5311 - val_accuracy: 0.5311 - val_auc_2: 0.5153\n",
            "Epoch 9/20\n",
            "633/633 [==============================] - 151s 239ms/step - loss: 1.5357 - accuracy: 0.5029 - auc_2: 0.4966 - val_loss: 1.5065 - val_accuracy: 0.5293 - val_auc_2: 0.5289\n",
            "Epoch 10/20\n",
            "633/633 [==============================] - 151s 238ms/step - loss: 1.4638 - accuracy: 0.5316 - auc_2: 0.5369 - val_loss: 1.4854 - val_accuracy: 0.5409 - val_auc_2: 0.5356\n",
            "Epoch 11/20\n",
            "633/633 [==============================] - 151s 238ms/step - loss: 1.3584 - accuracy: 0.5593 - auc_2: 0.5791 - val_loss: 1.4609 - val_accuracy: 0.5364 - val_auc_2: 0.5501\n",
            "Epoch 12/20\n",
            "633/633 [==============================] - 151s 238ms/step - loss: 1.2571 - accuracy: 0.5895 - auc_2: 0.6172 - val_loss: 1.4469 - val_accuracy: 0.5480 - val_auc_2: 0.5535\n",
            "Epoch 13/20\n",
            "633/633 [==============================] - 151s 239ms/step - loss: 1.1752 - accuracy: 0.6202 - auc_2: 0.6461 - val_loss: 1.4349 - val_accuracy: 0.5542 - val_auc_2: 0.5652\n",
            "Epoch 14/20\n",
            "633/633 [==============================] - 152s 239ms/step - loss: 1.1023 - accuracy: 0.6398 - auc_2: 0.6711 - val_loss: 1.4492 - val_accuracy: 0.5622 - val_auc_2: 0.5649\n",
            "Epoch 15/20\n",
            "633/633 [==============================] - 152s 241ms/step - loss: 1.0063 - accuracy: 0.6696 - auc_2: 0.7172 - val_loss: 1.4336 - val_accuracy: 0.5622 - val_auc_2: 0.5741\n",
            "Epoch 16/20\n",
            "633/633 [==============================] - 151s 239ms/step - loss: 0.9307 - accuracy: 0.6986 - auc_2: 0.7529 - val_loss: 1.4596 - val_accuracy: 0.5435 - val_auc_2: 0.5729\n",
            "Epoch 17/20\n",
            "633/633 [==============================] - 151s 239ms/step - loss: 0.8826 - accuracy: 0.7121 - auc_2: 0.7678 - val_loss: 1.4892 - val_accuracy: 0.5560 - val_auc_2: 0.5709\n",
            "Epoch 18/20\n",
            "633/633 [==============================] - 151s 238ms/step - loss: 0.8042 - accuracy: 0.7460 - auc_2: 0.7964 - val_loss: 1.4902 - val_accuracy: 0.5542 - val_auc_2: 0.5774\n",
            "Epoch 19/20\n",
            "633/633 [==============================] - 151s 239ms/step - loss: 0.7308 - accuracy: 0.7630 - auc_2: 0.8241 - val_loss: 1.5488 - val_accuracy: 0.5488 - val_auc_2: 0.5692\n",
            "Epoch 20/20\n",
            "633/633 [==============================] - 151s 239ms/step - loss: 0.6454 - accuracy: 0.7897 - auc_2: 0.8543 - val_loss: 1.5658 - val_accuracy: 0.5506 - val_auc_2: 0.5719\n"
          ],
          "name": "stdout"
        },
        {
          "output_type": "stream",
          "text": [
            "/usr/local/lib/python3.7/dist-packages/tensorflow/python/keras/engine/training.py:1905: UserWarning: `Model.predict_generator` is deprecated and will be removed in a future version. Please use `Model.predict`, which supports generators.\n",
            "  warnings.warn('`Model.predict_generator` is deprecated and '\n"
          ],
          "name": "stderr"
        },
        {
          "output_type": "stream",
          "text": [
            "71/71 [==============================] - 12s 132ms/step\n",
            "\n",
            "\n",
            "***Performance on Validation data***\n",
            "Mean Average Precision: 0.5791720374921209\n",
            "\n",
            "\n",
            "\n",
            "Results for fold 4\n",
            "Found 10128 images belonging to 14 classes.\n",
            "Found 1125 images belonging to 14 classes.\n"
          ],
          "name": "stdout"
        },
        {
          "output_type": "stream",
          "text": [
            "/usr/local/lib/python3.7/dist-packages/tensorflow/python/keras/engine/training.py:1844: UserWarning: `Model.fit_generator` is deprecated and will be removed in a future version. Please use `Model.fit`, which supports generators.\n",
            "  warnings.warn('`Model.fit_generator` is deprecated and '\n"
          ],
          "name": "stderr"
        },
        {
          "output_type": "stream",
          "text": [
            "Epoch 1/20\n",
            "633/633 [==============================] - ETA: 0s - loss: 3.0403 - accuracy: 0.1011 - auc_3: 0.0838"
          ],
          "name": "stdout"
        },
        {
          "output_type": "stream",
          "text": [
            "/usr/local/lib/python3.7/dist-packages/PIL/TiffImagePlugin.py:770: UserWarning: Possibly corrupt EXIF data.  Expecting to read 211288080 bytes but only got 0. Skipping tag 0\n",
            "  \" Skipping tag %s\" % (size, len(data), tag)\n",
            "/usr/local/lib/python3.7/dist-packages/PIL/TiffImagePlugin.py:770: UserWarning: Possibly corrupt EXIF data.  Expecting to read 131073 bytes but only got 10470. Skipping tag 582\n",
            "  \" Skipping tag %s\" % (size, len(data), tag)\n",
            "/usr/local/lib/python3.7/dist-packages/PIL/TiffImagePlugin.py:770: UserWarning: Possibly corrupt EXIF data.  Expecting to read 196867 bytes but only got 10474. Skipping tag 0\n",
            "  \" Skipping tag %s\" % (size, len(data), tag)\n",
            "/usr/local/lib/python3.7/dist-packages/PIL/TiffImagePlugin.py:788: UserWarning: Corrupt EXIF data.  Expecting to read 12 bytes but only got 5. \n",
            "  warnings.warn(str(msg))\n",
            "/usr/local/lib/python3.7/dist-packages/PIL/TiffImagePlugin.py:770: UserWarning: Possibly corrupt EXIF data.  Expecting to read 11046 bytes but only got 749. Skipping tag 700\n",
            "  \" Skipping tag %s\" % (size, len(data), tag)\n",
            "/usr/local/lib/python3.7/dist-packages/PIL/TiffImagePlugin.py:770: UserWarning: Possibly corrupt EXIF data.  Expecting to read 9664 bytes but only got 749. Skipping tag 34377\n",
            "  \" Skipping tag %s\" % (size, len(data), tag)\n"
          ],
          "name": "stderr"
        },
        {
          "output_type": "stream",
          "text": [
            "\b\b\b\b\b\b\b\b\b\b\b\b\b\b\b\b\b\b\b\b\b\b\b\b\b\b\b\b\b\b\b\b\b\b\b\b\b\b\b\b\b\b\b\b\b\b\b\b\b\b\b\b\b\b\b\b\b\b\b\b\b\b\b\b\b\b\b\b\b\b\b\b\b\b\b\b\b\b\b\b\b\b\b\b\b\b\b\b\b\b\b\b\b\b\b\b\b\b\b\b\r633/633 [==============================] - 177s 246ms/step - loss: 3.0399 - accuracy: 0.1011 - auc_3: 0.0838 - val_loss: 2.4473 - val_accuracy: 0.2293 - val_auc_3: 0.1838\n",
            "Epoch 2/20\n",
            "633/633 [==============================] - 151s 239ms/step - loss: 2.5109 - accuracy: 0.1694 - auc_3: 0.1308 - val_loss: 2.1743 - val_accuracy: 0.3271 - val_auc_3: 0.2795\n",
            "Epoch 3/20\n",
            "633/633 [==============================] - 151s 239ms/step - loss: 2.2985 - accuracy: 0.2502 - auc_3: 0.2014 - val_loss: 1.9704 - val_accuracy: 0.4000 - val_auc_3: 0.3588\n",
            "Epoch 4/20\n",
            "633/633 [==============================] - 151s 238ms/step - loss: 2.1272 - accuracy: 0.3146 - auc_3: 0.2622 - val_loss: 1.8260 - val_accuracy: 0.4480 - val_auc_3: 0.4126\n",
            "Epoch 5/20\n",
            "633/633 [==============================] - 152s 239ms/step - loss: 1.9878 - accuracy: 0.3598 - auc_3: 0.3105 - val_loss: 1.6793 - val_accuracy: 0.4924 - val_auc_3: 0.4579\n",
            "Epoch 6/20\n",
            "633/633 [==============================] - 151s 239ms/step - loss: 1.8362 - accuracy: 0.4122 - auc_3: 0.3771 - val_loss: 1.6134 - val_accuracy: 0.5040 - val_auc_3: 0.4854\n",
            "Epoch 7/20\n",
            "633/633 [==============================] - 151s 239ms/step - loss: 1.7490 - accuracy: 0.4394 - auc_3: 0.4123 - val_loss: 1.5475 - val_accuracy: 0.5360 - val_auc_3: 0.5101\n",
            "Epoch 8/20\n",
            "633/633 [==============================] - 151s 239ms/step - loss: 1.6167 - accuracy: 0.4821 - auc_3: 0.4749 - val_loss: 1.5050 - val_accuracy: 0.5449 - val_auc_3: 0.5241\n",
            "Epoch 9/20\n",
            "633/633 [==============================] - 151s 238ms/step - loss: 1.5078 - accuracy: 0.5197 - auc_3: 0.5068 - val_loss: 1.4602 - val_accuracy: 0.5476 - val_auc_3: 0.5443\n",
            "Epoch 10/20\n",
            "633/633 [==============================] - 151s 238ms/step - loss: 1.4098 - accuracy: 0.5402 - auc_3: 0.5515 - val_loss: 1.4404 - val_accuracy: 0.5538 - val_auc_3: 0.5478\n",
            "Epoch 11/20\n",
            "633/633 [==============================] - 151s 239ms/step - loss: 1.3886 - accuracy: 0.5488 - auc_3: 0.5631 - val_loss: 1.4290 - val_accuracy: 0.5591 - val_auc_3: 0.5595\n",
            "Epoch 12/20\n",
            "633/633 [==============================] - 151s 239ms/step - loss: 1.2432 - accuracy: 0.5998 - auc_3: 0.6240 - val_loss: 1.4349 - val_accuracy: 0.5653 - val_auc_3: 0.5658\n",
            "Epoch 13/20\n",
            "633/633 [==============================] - 151s 238ms/step - loss: 1.1575 - accuracy: 0.6249 - auc_3: 0.6588 - val_loss: 1.4399 - val_accuracy: 0.5724 - val_auc_3: 0.5725\n",
            "Epoch 14/20\n",
            "633/633 [==============================] - 151s 239ms/step - loss: 1.0596 - accuracy: 0.6538 - auc_3: 0.6996 - val_loss: 1.4316 - val_accuracy: 0.5680 - val_auc_3: 0.5760\n",
            "Epoch 15/20\n",
            "633/633 [==============================] - 152s 239ms/step - loss: 0.9593 - accuracy: 0.6942 - auc_3: 0.7389 - val_loss: 1.4406 - val_accuracy: 0.5698 - val_auc_3: 0.5803\n",
            "Epoch 16/20\n",
            "633/633 [==============================] - 152s 240ms/step - loss: 0.9035 - accuracy: 0.7057 - auc_3: 0.7576 - val_loss: 1.4415 - val_accuracy: 0.5716 - val_auc_3: 0.5861\n",
            "Epoch 17/20\n",
            "633/633 [==============================] - 152s 239ms/step - loss: 0.8473 - accuracy: 0.7275 - auc_3: 0.7752 - val_loss: 1.4493 - val_accuracy: 0.5804 - val_auc_3: 0.5876\n",
            "Epoch 18/20\n",
            "633/633 [==============================] - 152s 240ms/step - loss: 0.7566 - accuracy: 0.7582 - auc_3: 0.8160 - val_loss: 1.4829 - val_accuracy: 0.5716 - val_auc_3: 0.5848\n",
            "Epoch 19/20\n",
            "633/633 [==============================] - 152s 240ms/step - loss: 0.6913 - accuracy: 0.7787 - auc_3: 0.8379 - val_loss: 1.4827 - val_accuracy: 0.5876 - val_auc_3: 0.5946\n",
            "Epoch 20/20\n",
            "633/633 [==============================] - 152s 239ms/step - loss: 0.6257 - accuracy: 0.7953 - auc_3: 0.8557 - val_loss: 1.5471 - val_accuracy: 0.5724 - val_auc_3: 0.5833\n"
          ],
          "name": "stdout"
        },
        {
          "output_type": "stream",
          "text": [
            "/usr/local/lib/python3.7/dist-packages/tensorflow/python/keras/engine/training.py:1905: UserWarning: `Model.predict_generator` is deprecated and will be removed in a future version. Please use `Model.predict`, which supports generators.\n",
            "  warnings.warn('`Model.predict_generator` is deprecated and '\n"
          ],
          "name": "stderr"
        },
        {
          "output_type": "stream",
          "text": [
            "71/71 [==============================] - 13s 134ms/step\n",
            "\n",
            "\n",
            "***Performance on Validation data***\n",
            "Mean Average Precision: 0.5908745738822266\n",
            "\n",
            "\n",
            "\n",
            "Results for fold 5\n",
            "Found 10128 images belonging to 14 classes.\n",
            "Found 1125 images belonging to 14 classes.\n"
          ],
          "name": "stdout"
        },
        {
          "output_type": "stream",
          "text": [
            "/usr/local/lib/python3.7/dist-packages/tensorflow/python/keras/engine/training.py:1844: UserWarning: `Model.fit_generator` is deprecated and will be removed in a future version. Please use `Model.fit`, which supports generators.\n",
            "  warnings.warn('`Model.fit_generator` is deprecated and '\n"
          ],
          "name": "stderr"
        },
        {
          "output_type": "stream",
          "text": [
            "Epoch 1/20\n",
            "234/633 [==========>...................] - ETA: 1:29 - loss: 3.2849 - accuracy: 0.0827 - auc_4: 0.0772"
          ],
          "name": "stdout"
        },
        {
          "output_type": "stream",
          "text": [
            "/usr/local/lib/python3.7/dist-packages/PIL/TiffImagePlugin.py:770: UserWarning: Possibly corrupt EXIF data.  Expecting to read 11046 bytes but only got 749. Skipping tag 700\n",
            "  \" Skipping tag %s\" % (size, len(data), tag)\n",
            "/usr/local/lib/python3.7/dist-packages/PIL/TiffImagePlugin.py:770: UserWarning: Possibly corrupt EXIF data.  Expecting to read 9664 bytes but only got 749. Skipping tag 34377\n",
            "  \" Skipping tag %s\" % (size, len(data), tag)\n"
          ],
          "name": "stderr"
        },
        {
          "output_type": "stream",
          "text": [
            "560/633 [=========================>....] - ETA: 16s - loss: 3.0434 - accuracy: 0.0964 - auc_4: 0.0792"
          ],
          "name": "stdout"
        },
        {
          "output_type": "stream",
          "text": [
            "/usr/local/lib/python3.7/dist-packages/PIL/TiffImagePlugin.py:770: UserWarning: Possibly corrupt EXIF data.  Expecting to read 211288080 bytes but only got 0. Skipping tag 0\n",
            "  \" Skipping tag %s\" % (size, len(data), tag)\n",
            "/usr/local/lib/python3.7/dist-packages/PIL/TiffImagePlugin.py:770: UserWarning: Possibly corrupt EXIF data.  Expecting to read 131073 bytes but only got 10470. Skipping tag 582\n",
            "  \" Skipping tag %s\" % (size, len(data), tag)\n",
            "/usr/local/lib/python3.7/dist-packages/PIL/TiffImagePlugin.py:770: UserWarning: Possibly corrupt EXIF data.  Expecting to read 196867 bytes but only got 10474. Skipping tag 0\n",
            "  \" Skipping tag %s\" % (size, len(data), tag)\n",
            "/usr/local/lib/python3.7/dist-packages/PIL/TiffImagePlugin.py:788: UserWarning: Corrupt EXIF data.  Expecting to read 12 bytes but only got 5. \n",
            "  warnings.warn(str(msg))\n"
          ],
          "name": "stderr"
        },
        {
          "output_type": "stream",
          "text": [
            "633/633 [==============================] - 178s 246ms/step - loss: 3.0118 - accuracy: 0.0987 - auc_4: 0.0798 - val_loss: 2.4429 - val_accuracy: 0.2542 - val_auc_4: 0.1969\n",
            "Epoch 2/20\n",
            "633/633 [==============================] - 152s 239ms/step - loss: 2.4842 - accuracy: 0.1766 - auc_4: 0.1383 - val_loss: 2.1661 - val_accuracy: 0.3156 - val_auc_4: 0.2812\n",
            "Epoch 3/20\n",
            "633/633 [==============================] - 152s 240ms/step - loss: 2.2829 - accuracy: 0.2572 - auc_4: 0.2024 - val_loss: 1.9837 - val_accuracy: 0.3796 - val_auc_4: 0.3461\n",
            "Epoch 4/20\n",
            "633/633 [==============================] - 152s 239ms/step - loss: 2.1062 - accuracy: 0.3146 - auc_4: 0.2677 - val_loss: 1.8368 - val_accuracy: 0.4364 - val_auc_4: 0.4080\n",
            "Epoch 5/20\n",
            "633/633 [==============================] - 152s 239ms/step - loss: 1.9714 - accuracy: 0.3644 - auc_4: 0.3220 - val_loss: 1.7496 - val_accuracy: 0.4649 - val_auc_4: 0.4379\n",
            "Epoch 6/20\n",
            "633/633 [==============================] - 151s 239ms/step - loss: 1.8281 - accuracy: 0.4104 - auc_4: 0.3793 - val_loss: 1.6489 - val_accuracy: 0.4898 - val_auc_4: 0.4790\n",
            "Epoch 7/20\n",
            "633/633 [==============================] - 151s 238ms/step - loss: 1.7123 - accuracy: 0.4455 - auc_4: 0.4241 - val_loss: 1.6045 - val_accuracy: 0.5147 - val_auc_4: 0.4985\n",
            "Epoch 8/20\n",
            "633/633 [==============================] - 153s 241ms/step - loss: 1.6023 - accuracy: 0.4815 - auc_4: 0.4680 - val_loss: 1.5585 - val_accuracy: 0.5298 - val_auc_4: 0.5170\n",
            "Epoch 9/20\n",
            "633/633 [==============================] - 154s 244ms/step - loss: 1.4909 - accuracy: 0.5182 - auc_4: 0.5187 - val_loss: 1.5317 - val_accuracy: 0.5387 - val_auc_4: 0.5289\n",
            "Epoch 10/20\n",
            "633/633 [==============================] - 154s 243ms/step - loss: 1.3870 - accuracy: 0.5626 - auc_4: 0.5693 - val_loss: 1.5033 - val_accuracy: 0.5333 - val_auc_4: 0.5378\n",
            "Epoch 11/20\n",
            "633/633 [==============================] - 154s 242ms/step - loss: 1.2943 - accuracy: 0.5828 - auc_4: 0.6039 - val_loss: 1.5019 - val_accuracy: 0.5422 - val_auc_4: 0.5436\n",
            "Epoch 12/20\n",
            "633/633 [==============================] - 153s 242ms/step - loss: 1.2060 - accuracy: 0.6065 - auc_4: 0.6443 - val_loss: 1.5145 - val_accuracy: 0.5413 - val_auc_4: 0.5448\n",
            "Epoch 13/20\n",
            "633/633 [==============================] - 153s 242ms/step - loss: 1.1089 - accuracy: 0.6448 - auc_4: 0.6775 - val_loss: 1.5028 - val_accuracy: 0.5476 - val_auc_4: 0.5495\n",
            "Epoch 14/20\n",
            "633/633 [==============================] - 154s 243ms/step - loss: 1.0489 - accuracy: 0.6676 - auc_4: 0.7040 - val_loss: 1.5197 - val_accuracy: 0.5538 - val_auc_4: 0.5493\n",
            "Epoch 15/20\n",
            "633/633 [==============================] - 154s 243ms/step - loss: 0.9298 - accuracy: 0.7021 - auc_4: 0.7529 - val_loss: 1.5363 - val_accuracy: 0.5520 - val_auc_4: 0.5511\n",
            "Epoch 16/20\n",
            "633/633 [==============================] - 154s 243ms/step - loss: 0.8921 - accuracy: 0.7039 - auc_4: 0.7592 - val_loss: 1.5720 - val_accuracy: 0.5369 - val_auc_4: 0.5489\n",
            "Epoch 17/20\n",
            "633/633 [==============================] - 153s 242ms/step - loss: 0.7923 - accuracy: 0.7408 - auc_4: 0.8023 - val_loss: 1.5568 - val_accuracy: 0.5467 - val_auc_4: 0.5487\n",
            "Epoch 18/20\n",
            "633/633 [==============================] - 152s 240ms/step - loss: 0.7138 - accuracy: 0.7672 - auc_4: 0.8288 - val_loss: 1.6051 - val_accuracy: 0.5431 - val_auc_4: 0.5500\n",
            "Epoch 19/20\n",
            "633/633 [==============================] - 153s 241ms/step - loss: 0.6667 - accuracy: 0.7797 - auc_4: 0.8499 - val_loss: 1.5959 - val_accuracy: 0.5511 - val_auc_4: 0.5511\n",
            "Epoch 20/20\n",
            "633/633 [==============================] - 153s 241ms/step - loss: 0.6153 - accuracy: 0.8046 - auc_4: 0.8654 - val_loss: 1.6243 - val_accuracy: 0.5511 - val_auc_4: 0.5492\n"
          ],
          "name": "stdout"
        },
        {
          "output_type": "stream",
          "text": [
            "/usr/local/lib/python3.7/dist-packages/tensorflow/python/keras/engine/training.py:1905: UserWarning: `Model.predict_generator` is deprecated and will be removed in a future version. Please use `Model.predict`, which supports generators.\n",
            "  warnings.warn('`Model.predict_generator` is deprecated and '\n"
          ],
          "name": "stderr"
        },
        {
          "output_type": "stream",
          "text": [
            "71/71 [==============================] - 13s 132ms/step\n",
            "\n",
            "\n",
            "***Performance on Validation data***\n",
            "Mean Average Precision: 0.5584996088076845\n",
            "\n",
            "\n",
            "\n",
            "Results for fold 6\n",
            "Found 10128 images belonging to 14 classes.\n",
            "Found 1125 images belonging to 14 classes.\n"
          ],
          "name": "stdout"
        },
        {
          "output_type": "stream",
          "text": [
            "/usr/local/lib/python3.7/dist-packages/tensorflow/python/keras/engine/training.py:1844: UserWarning: `Model.fit_generator` is deprecated and will be removed in a future version. Please use `Model.fit`, which supports generators.\n",
            "  warnings.warn('`Model.fit_generator` is deprecated and '\n"
          ],
          "name": "stderr"
        },
        {
          "output_type": "stream",
          "text": [
            "Epoch 1/20\n",
            " 59/633 [=>............................] - ETA: 2:10 - loss: 3.8520 - accuracy: 0.0738 - auc_5: 0.0788"
          ],
          "name": "stdout"
        },
        {
          "output_type": "stream",
          "text": [
            "/usr/local/lib/python3.7/dist-packages/PIL/TiffImagePlugin.py:770: UserWarning: Possibly corrupt EXIF data.  Expecting to read 11046 bytes but only got 749. Skipping tag 700\n",
            "  \" Skipping tag %s\" % (size, len(data), tag)\n",
            "/usr/local/lib/python3.7/dist-packages/PIL/TiffImagePlugin.py:770: UserWarning: Possibly corrupt EXIF data.  Expecting to read 9664 bytes but only got 749. Skipping tag 34377\n",
            "  \" Skipping tag %s\" % (size, len(data), tag)\n"
          ],
          "name": "stderr"
        },
        {
          "output_type": "stream",
          "text": [
            "385/633 [=================>............] - ETA: 56s - loss: 3.2210 - accuracy: 0.0824 - auc_5: 0.0763"
          ],
          "name": "stdout"
        },
        {
          "output_type": "stream",
          "text": [
            "/usr/local/lib/python3.7/dist-packages/PIL/TiffImagePlugin.py:770: UserWarning: Possibly corrupt EXIF data.  Expecting to read 211288080 bytes but only got 0. Skipping tag 0\n",
            "  \" Skipping tag %s\" % (size, len(data), tag)\n",
            "/usr/local/lib/python3.7/dist-packages/PIL/TiffImagePlugin.py:770: UserWarning: Possibly corrupt EXIF data.  Expecting to read 131073 bytes but only got 10470. Skipping tag 582\n",
            "  \" Skipping tag %s\" % (size, len(data), tag)\n",
            "/usr/local/lib/python3.7/dist-packages/PIL/TiffImagePlugin.py:770: UserWarning: Possibly corrupt EXIF data.  Expecting to read 196867 bytes but only got 10474. Skipping tag 0\n",
            "  \" Skipping tag %s\" % (size, len(data), tag)\n",
            "/usr/local/lib/python3.7/dist-packages/PIL/TiffImagePlugin.py:788: UserWarning: Corrupt EXIF data.  Expecting to read 12 bytes but only got 5. \n",
            "  warnings.warn(str(msg))\n"
          ],
          "name": "stderr"
        },
        {
          "output_type": "stream",
          "text": [
            "633/633 [==============================] - 179s 248ms/step - loss: 3.0688 - accuracy: 0.0895 - auc_5: 0.0779 - val_loss: 2.4856 - val_accuracy: 0.2053 - val_auc_5: 0.1633\n",
            "Epoch 2/20\n",
            "633/633 [==============================] - 153s 242ms/step - loss: 2.5188 - accuracy: 0.1655 - auc_5: 0.1229 - val_loss: 2.2076 - val_accuracy: 0.2996 - val_auc_5: 0.2560\n",
            "Epoch 3/20\n",
            "633/633 [==============================] - 153s 241ms/step - loss: 2.3092 - accuracy: 0.2533 - auc_5: 0.1920 - val_loss: 2.0342 - val_accuracy: 0.3547 - val_auc_5: 0.3299\n",
            "Epoch 4/20\n",
            "633/633 [==============================] - 153s 242ms/step - loss: 2.1457 - accuracy: 0.3050 - auc_5: 0.2519 - val_loss: 1.8677 - val_accuracy: 0.4027 - val_auc_5: 0.4055\n",
            "Epoch 5/20\n",
            "633/633 [==============================] - 153s 241ms/step - loss: 2.0155 - accuracy: 0.3432 - auc_5: 0.3016 - val_loss: 1.7345 - val_accuracy: 0.4560 - val_auc_5: 0.4581\n",
            "Epoch 6/20\n",
            "633/633 [==============================] - 154s 243ms/step - loss: 1.8694 - accuracy: 0.3955 - auc_5: 0.3485 - val_loss: 1.6294 - val_accuracy: 0.5004 - val_auc_5: 0.5002\n",
            "Epoch 7/20\n",
            "633/633 [==============================] - 153s 241ms/step - loss: 1.7352 - accuracy: 0.4389 - auc_5: 0.4104 - val_loss: 1.5539 - val_accuracy: 0.5236 - val_auc_5: 0.5294\n",
            "Epoch 8/20\n",
            "633/633 [==============================] - 154s 243ms/step - loss: 1.6247 - accuracy: 0.4782 - auc_5: 0.4631 - val_loss: 1.4893 - val_accuracy: 0.5458 - val_auc_5: 0.5573\n",
            "Epoch 9/20\n",
            "633/633 [==============================] - 152s 241ms/step - loss: 1.4994 - accuracy: 0.5154 - auc_5: 0.5220 - val_loss: 1.4410 - val_accuracy: 0.5644 - val_auc_5: 0.5754\n",
            "Epoch 10/20\n",
            "633/633 [==============================] - 152s 240ms/step - loss: 1.4333 - accuracy: 0.5356 - auc_5: 0.5366 - val_loss: 1.4149 - val_accuracy: 0.5653 - val_auc_5: 0.5753\n",
            "Epoch 11/20\n",
            "633/633 [==============================] - 151s 238ms/step - loss: 1.3017 - accuracy: 0.5802 - auc_5: 0.5973 - val_loss: 1.4125 - val_accuracy: 0.5742 - val_auc_5: 0.5828\n",
            "Epoch 12/20\n",
            "633/633 [==============================] - 152s 239ms/step - loss: 1.2164 - accuracy: 0.6118 - auc_5: 0.6285 - val_loss: 1.3917 - val_accuracy: 0.5707 - val_auc_5: 0.5959\n",
            "Epoch 13/20\n",
            "633/633 [==============================] - 152s 239ms/step - loss: 1.1403 - accuracy: 0.6286 - auc_5: 0.6656 - val_loss: 1.3995 - val_accuracy: 0.5689 - val_auc_5: 0.6000\n",
            "Epoch 14/20\n",
            "633/633 [==============================] - 150s 237ms/step - loss: 1.0453 - accuracy: 0.6620 - auc_5: 0.7014 - val_loss: 1.3970 - val_accuracy: 0.5787 - val_auc_5: 0.6018\n",
            "Epoch 15/20\n",
            "633/633 [==============================] - 150s 237ms/step - loss: 0.9890 - accuracy: 0.6745 - auc_5: 0.7263 - val_loss: 1.3779 - val_accuracy: 0.5813 - val_auc_5: 0.6046\n",
            "Epoch 16/20\n",
            "633/633 [==============================] - 150s 236ms/step - loss: 0.8974 - accuracy: 0.7089 - auc_5: 0.7702 - val_loss: 1.3856 - val_accuracy: 0.5849 - val_auc_5: 0.6075\n",
            "Epoch 17/20\n",
            "633/633 [==============================] - 150s 237ms/step - loss: 0.8205 - accuracy: 0.7391 - auc_5: 0.7891 - val_loss: 1.4145 - val_accuracy: 0.5849 - val_auc_5: 0.6068\n",
            "Epoch 18/20\n",
            "633/633 [==============================] - 150s 236ms/step - loss: 0.7207 - accuracy: 0.7703 - auc_5: 0.8177 - val_loss: 1.4085 - val_accuracy: 0.5902 - val_auc_5: 0.6157\n",
            "Epoch 19/20\n",
            "633/633 [==============================] - 150s 237ms/step - loss: 0.6709 - accuracy: 0.7780 - auc_5: 0.8410 - val_loss: 1.4675 - val_accuracy: 0.5849 - val_auc_5: 0.6088\n",
            "Epoch 20/20\n",
            "633/633 [==============================] - 151s 238ms/step - loss: 0.6361 - accuracy: 0.7960 - auc_5: 0.8513 - val_loss: 1.4822 - val_accuracy: 0.6018 - val_auc_5: 0.6037\n"
          ],
          "name": "stdout"
        },
        {
          "output_type": "stream",
          "text": [
            "/usr/local/lib/python3.7/dist-packages/tensorflow/python/keras/engine/training.py:1905: UserWarning: `Model.predict_generator` is deprecated and will be removed in a future version. Please use `Model.predict`, which supports generators.\n",
            "  warnings.warn('`Model.predict_generator` is deprecated and '\n"
          ],
          "name": "stderr"
        },
        {
          "output_type": "stream",
          "text": [
            "71/71 [==============================] - 13s 130ms/step\n",
            "\n",
            "\n",
            "***Performance on Validation data***\n",
            "Mean Average Precision: 0.6130483494761785\n",
            "\n",
            "\n",
            "\n",
            "Results for fold 7\n",
            "Found 10128 images belonging to 14 classes.\n",
            "Found 1125 images belonging to 14 classes.\n"
          ],
          "name": "stdout"
        },
        {
          "output_type": "stream",
          "text": [
            "/usr/local/lib/python3.7/dist-packages/tensorflow/python/keras/engine/training.py:1844: UserWarning: `Model.fit_generator` is deprecated and will be removed in a future version. Please use `Model.fit`, which supports generators.\n",
            "  warnings.warn('`Model.fit_generator` is deprecated and '\n"
          ],
          "name": "stderr"
        },
        {
          "output_type": "stream",
          "text": [
            "Epoch 1/20\n",
            "101/633 [===>..........................] - ETA: 1:58 - loss: 3.5663 - accuracy: 0.0757 - auc_6: 0.0765"
          ],
          "name": "stdout"
        },
        {
          "output_type": "stream",
          "text": [
            "/usr/local/lib/python3.7/dist-packages/PIL/TiffImagePlugin.py:770: UserWarning: Possibly corrupt EXIF data.  Expecting to read 11046 bytes but only got 749. Skipping tag 700\n",
            "  \" Skipping tag %s\" % (size, len(data), tag)\n",
            "/usr/local/lib/python3.7/dist-packages/PIL/TiffImagePlugin.py:770: UserWarning: Possibly corrupt EXIF data.  Expecting to read 9664 bytes but only got 749. Skipping tag 34377\n",
            "  \" Skipping tag %s\" % (size, len(data), tag)\n"
          ],
          "name": "stderr"
        },
        {
          "output_type": "stream",
          "text": [
            "219/633 [=========>....................] - ETA: 1:32 - loss: 3.3299 - accuracy: 0.0814 - auc_6: 0.0772"
          ],
          "name": "stdout"
        },
        {
          "output_type": "stream",
          "text": [
            "/usr/local/lib/python3.7/dist-packages/PIL/TiffImagePlugin.py:770: UserWarning: Possibly corrupt EXIF data.  Expecting to read 211288080 bytes but only got 0. Skipping tag 0\n",
            "  \" Skipping tag %s\" % (size, len(data), tag)\n",
            "/usr/local/lib/python3.7/dist-packages/PIL/TiffImagePlugin.py:770: UserWarning: Possibly corrupt EXIF data.  Expecting to read 131073 bytes but only got 10470. Skipping tag 582\n",
            "  \" Skipping tag %s\" % (size, len(data), tag)\n",
            "/usr/local/lib/python3.7/dist-packages/PIL/TiffImagePlugin.py:770: UserWarning: Possibly corrupt EXIF data.  Expecting to read 196867 bytes but only got 10474. Skipping tag 0\n",
            "  \" Skipping tag %s\" % (size, len(data), tag)\n",
            "/usr/local/lib/python3.7/dist-packages/PIL/TiffImagePlugin.py:788: UserWarning: Corrupt EXIF data.  Expecting to read 12 bytes but only got 5. \n",
            "  warnings.warn(str(msg))\n"
          ],
          "name": "stderr"
        },
        {
          "output_type": "stream",
          "text": [
            "633/633 [==============================] - 177s 244ms/step - loss: 3.0303 - accuracy: 0.0938 - auc_6: 0.0801 - val_loss: 2.4662 - val_accuracy: 0.2160 - val_auc_6: 0.1852\n",
            "Epoch 2/20\n",
            "633/633 [==============================] - 151s 238ms/step - loss: 2.5007 - accuracy: 0.1626 - auc_6: 0.1279 - val_loss: 2.2239 - val_accuracy: 0.3227 - val_auc_6: 0.2592\n",
            "Epoch 3/20\n",
            "633/633 [==============================] - 151s 238ms/step - loss: 2.3471 - accuracy: 0.2342 - auc_6: 0.1853 - val_loss: 2.0248 - val_accuracy: 0.3778 - val_auc_6: 0.3398\n",
            "Epoch 4/20\n",
            "633/633 [==============================] - 150s 236ms/step - loss: 2.1623 - accuracy: 0.2919 - auc_6: 0.2507 - val_loss: 1.8775 - val_accuracy: 0.4320 - val_auc_6: 0.3971\n",
            "Epoch 5/20\n",
            "633/633 [==============================] - 149s 236ms/step - loss: 1.9932 - accuracy: 0.3557 - auc_6: 0.3111 - val_loss: 1.7312 - val_accuracy: 0.4489 - val_auc_6: 0.4432\n",
            "Epoch 6/20\n",
            "633/633 [==============================] - 150s 236ms/step - loss: 1.8924 - accuracy: 0.3913 - auc_6: 0.3530 - val_loss: 1.6826 - val_accuracy: 0.4684 - val_auc_6: 0.4721\n",
            "Epoch 7/20\n",
            "633/633 [==============================] - 150s 236ms/step - loss: 1.7566 - accuracy: 0.4407 - auc_6: 0.4015 - val_loss: 1.5849 - val_accuracy: 0.4942 - val_auc_6: 0.5017\n",
            "Epoch 8/20\n",
            "633/633 [==============================] - 150s 237ms/step - loss: 1.6211 - accuracy: 0.4844 - auc_6: 0.4646 - val_loss: 1.5228 - val_accuracy: 0.5031 - val_auc_6: 0.5192\n",
            "Epoch 9/20\n",
            "633/633 [==============================] - 149s 236ms/step - loss: 1.5151 - accuracy: 0.5071 - auc_6: 0.5022 - val_loss: 1.5039 - val_accuracy: 0.5076 - val_auc_6: 0.5347\n",
            "Epoch 10/20\n",
            "633/633 [==============================] - 152s 239ms/step - loss: 1.4183 - accuracy: 0.5423 - auc_6: 0.5433 - val_loss: 1.4747 - val_accuracy: 0.5316 - val_auc_6: 0.5493\n",
            "Epoch 11/20\n",
            "633/633 [==============================] - 151s 238ms/step - loss: 1.3398 - accuracy: 0.5770 - auc_6: 0.5830 - val_loss: 1.4614 - val_accuracy: 0.5236 - val_auc_6: 0.5573\n",
            "Epoch 12/20\n",
            "633/633 [==============================] - 150s 237ms/step - loss: 1.2512 - accuracy: 0.5904 - auc_6: 0.6109 - val_loss: 1.4448 - val_accuracy: 0.5387 - val_auc_6: 0.5690\n",
            "Epoch 13/20\n",
            "633/633 [==============================] - 151s 238ms/step - loss: 1.1592 - accuracy: 0.6155 - auc_6: 0.6537 - val_loss: 1.4579 - val_accuracy: 0.5422 - val_auc_6: 0.5718\n",
            "Epoch 14/20\n",
            "633/633 [==============================] - 152s 240ms/step - loss: 1.1009 - accuracy: 0.6473 - auc_6: 0.6788 - val_loss: 1.4551 - val_accuracy: 0.5573 - val_auc_6: 0.5769\n",
            "Epoch 15/20\n",
            "633/633 [==============================] - 150s 237ms/step - loss: 0.9859 - accuracy: 0.6854 - auc_6: 0.7296 - val_loss: 1.4341 - val_accuracy: 0.5538 - val_auc_6: 0.5792\n",
            "Epoch 16/20\n",
            "633/633 [==============================] - 150s 237ms/step - loss: 0.9261 - accuracy: 0.7043 - auc_6: 0.7387 - val_loss: 1.4535 - val_accuracy: 0.5716 - val_auc_6: 0.5859\n",
            "Epoch 17/20\n",
            "633/633 [==============================] - 150s 237ms/step - loss: 0.8397 - accuracy: 0.7262 - auc_6: 0.7800 - val_loss: 1.4447 - val_accuracy: 0.5644 - val_auc_6: 0.5937\n",
            "Epoch 18/20\n",
            "633/633 [==============================] - 151s 238ms/step - loss: 0.7877 - accuracy: 0.7432 - auc_6: 0.7992 - val_loss: 1.4682 - val_accuracy: 0.5804 - val_auc_6: 0.5880\n",
            "Epoch 19/20\n",
            "633/633 [==============================] - 150s 236ms/step - loss: 0.7038 - accuracy: 0.7685 - auc_6: 0.8256 - val_loss: 1.5009 - val_accuracy: 0.5733 - val_auc_6: 0.5876\n",
            "Epoch 20/20\n",
            "633/633 [==============================] - 150s 237ms/step - loss: 0.6347 - accuracy: 0.7951 - auc_6: 0.8533 - val_loss: 1.5170 - val_accuracy: 0.5778 - val_auc_6: 0.5880\n"
          ],
          "name": "stdout"
        },
        {
          "output_type": "stream",
          "text": [
            "/usr/local/lib/python3.7/dist-packages/tensorflow/python/keras/engine/training.py:1905: UserWarning: `Model.predict_generator` is deprecated and will be removed in a future version. Please use `Model.predict`, which supports generators.\n",
            "  warnings.warn('`Model.predict_generator` is deprecated and '\n"
          ],
          "name": "stderr"
        },
        {
          "output_type": "stream",
          "text": [
            "71/71 [==============================] - 12s 124ms/step\n",
            "\n",
            "\n",
            "***Performance on Validation data***\n",
            "Mean Average Precision: 0.5949325350327191\n",
            "\n",
            "\n",
            "\n",
            "Results for fold 8\n",
            "Found 10128 images belonging to 14 classes.\n",
            "Found 1125 images belonging to 14 classes.\n"
          ],
          "name": "stdout"
        },
        {
          "output_type": "stream",
          "text": [
            "/usr/local/lib/python3.7/dist-packages/tensorflow/python/keras/engine/training.py:1844: UserWarning: `Model.fit_generator` is deprecated and will be removed in a future version. Please use `Model.fit`, which supports generators.\n",
            "  warnings.warn('`Model.fit_generator` is deprecated and '\n"
          ],
          "name": "stderr"
        },
        {
          "output_type": "stream",
          "text": [
            "Epoch 1/20\n",
            "312/633 [=============>................] - ETA: 1:11 - loss: 3.1445 - accuracy: 0.0919 - auc_7: 0.0776"
          ],
          "name": "stdout"
        },
        {
          "output_type": "stream",
          "text": [
            "/usr/local/lib/python3.7/dist-packages/PIL/TiffImagePlugin.py:770: UserWarning: Possibly corrupt EXIF data.  Expecting to read 211288080 bytes but only got 0. Skipping tag 0\n",
            "  \" Skipping tag %s\" % (size, len(data), tag)\n",
            "/usr/local/lib/python3.7/dist-packages/PIL/TiffImagePlugin.py:770: UserWarning: Possibly corrupt EXIF data.  Expecting to read 131073 bytes but only got 10470. Skipping tag 582\n",
            "  \" Skipping tag %s\" % (size, len(data), tag)\n",
            "/usr/local/lib/python3.7/dist-packages/PIL/TiffImagePlugin.py:770: UserWarning: Possibly corrupt EXIF data.  Expecting to read 196867 bytes but only got 10474. Skipping tag 0\n",
            "  \" Skipping tag %s\" % (size, len(data), tag)\n",
            "/usr/local/lib/python3.7/dist-packages/PIL/TiffImagePlugin.py:788: UserWarning: Corrupt EXIF data.  Expecting to read 12 bytes but only got 5. \n",
            "  warnings.warn(str(msg))\n"
          ],
          "name": "stderr"
        },
        {
          "output_type": "stream",
          "text": [
            "440/633 [===================>..........] - ETA: 43s - loss: 3.0559 - accuracy: 0.0961 - auc_7: 0.0789"
          ],
          "name": "stdout"
        },
        {
          "output_type": "stream",
          "text": [
            "/usr/local/lib/python3.7/dist-packages/PIL/TiffImagePlugin.py:770: UserWarning: Possibly corrupt EXIF data.  Expecting to read 11046 bytes but only got 749. Skipping tag 700\n",
            "  \" Skipping tag %s\" % (size, len(data), tag)\n",
            "/usr/local/lib/python3.7/dist-packages/PIL/TiffImagePlugin.py:770: UserWarning: Possibly corrupt EXIF data.  Expecting to read 9664 bytes but only got 749. Skipping tag 34377\n",
            "  \" Skipping tag %s\" % (size, len(data), tag)\n"
          ],
          "name": "stderr"
        },
        {
          "output_type": "stream",
          "text": [
            "633/633 [==============================] - 179s 248ms/step - loss: 2.9694 - accuracy: 0.1010 - auc_7: 0.0808 - val_loss: 2.4177 - val_accuracy: 0.2489 - val_auc_7: 0.1875\n",
            "Epoch 2/20\n",
            "633/633 [==============================] - 153s 241ms/step - loss: 2.4801 - accuracy: 0.1795 - auc_7: 0.1311 - val_loss: 2.1692 - val_accuracy: 0.3164 - val_auc_7: 0.2742\n",
            "Epoch 3/20\n",
            "633/633 [==============================] - 152s 240ms/step - loss: 2.2703 - accuracy: 0.2557 - auc_7: 0.2019 - val_loss: 1.9707 - val_accuracy: 0.4124 - val_auc_7: 0.3638\n",
            "Epoch 4/20\n",
            "633/633 [==============================] - 152s 239ms/step - loss: 2.0952 - accuracy: 0.3094 - auc_7: 0.2686 - val_loss: 1.7949 - val_accuracy: 0.4596 - val_auc_7: 0.4175\n",
            "Epoch 5/20\n",
            "633/633 [==============================] - 151s 238ms/step - loss: 1.9471 - accuracy: 0.3678 - auc_7: 0.3286 - val_loss: 1.6791 - val_accuracy: 0.4862 - val_auc_7: 0.4571\n",
            "Epoch 6/20\n",
            "633/633 [==============================] - 151s 238ms/step - loss: 1.8027 - accuracy: 0.4136 - auc_7: 0.3895 - val_loss: 1.6024 - val_accuracy: 0.5129 - val_auc_7: 0.4900\n",
            "Epoch 7/20\n",
            "633/633 [==============================] - 151s 238ms/step - loss: 1.6626 - accuracy: 0.4627 - auc_7: 0.4530 - val_loss: 1.5214 - val_accuracy: 0.5298 - val_auc_7: 0.5063\n",
            "Epoch 8/20\n",
            "633/633 [==============================] - 151s 238ms/step - loss: 1.5515 - accuracy: 0.5016 - auc_7: 0.4952 - val_loss: 1.4832 - val_accuracy: 0.5440 - val_auc_7: 0.5170\n",
            "Epoch 9/20\n",
            "633/633 [==============================] - 150s 238ms/step - loss: 1.4982 - accuracy: 0.5123 - auc_7: 0.5132 - val_loss: 1.4486 - val_accuracy: 0.5538 - val_auc_7: 0.5319\n",
            "Epoch 10/20\n",
            "633/633 [==============================] - 150s 238ms/step - loss: 1.3554 - accuracy: 0.5658 - auc_7: 0.5765 - val_loss: 1.4227 - val_accuracy: 0.5476 - val_auc_7: 0.5429\n",
            "Epoch 11/20\n",
            "633/633 [==============================] - 152s 239ms/step - loss: 1.2811 - accuracy: 0.5765 - auc_7: 0.6025 - val_loss: 1.4110 - val_accuracy: 0.5600 - val_auc_7: 0.5515\n",
            "Epoch 12/20\n",
            "633/633 [==============================] - 151s 239ms/step - loss: 1.1715 - accuracy: 0.6220 - auc_7: 0.6518 - val_loss: 1.4277 - val_accuracy: 0.5653 - val_auc_7: 0.5475\n",
            "Epoch 13/20\n",
            "633/633 [==============================] - 151s 238ms/step - loss: 1.0991 - accuracy: 0.6389 - auc_7: 0.6862 - val_loss: 1.4098 - val_accuracy: 0.5627 - val_auc_7: 0.5593\n",
            "Epoch 14/20\n",
            "633/633 [==============================] - 150s 238ms/step - loss: 1.0399 - accuracy: 0.6516 - auc_7: 0.7040 - val_loss: 1.4104 - val_accuracy: 0.5591 - val_auc_7: 0.5582\n",
            "Epoch 15/20\n",
            "633/633 [==============================] - 151s 238ms/step - loss: 0.9201 - accuracy: 0.6988 - auc_7: 0.7515 - val_loss: 1.4331 - val_accuracy: 0.5600 - val_auc_7: 0.5547\n",
            "Epoch 16/20\n",
            "633/633 [==============================] - 151s 238ms/step - loss: 0.8395 - accuracy: 0.7240 - auc_7: 0.7824 - val_loss: 1.4353 - val_accuracy: 0.5582 - val_auc_7: 0.5615\n",
            "Epoch 17/20\n",
            "633/633 [==============================] - 150s 237ms/step - loss: 0.7980 - accuracy: 0.7387 - auc_7: 0.7986 - val_loss: 1.4766 - val_accuracy: 0.5529 - val_auc_7: 0.5542\n",
            "Epoch 18/20\n",
            "633/633 [==============================] - 151s 238ms/step - loss: 0.7214 - accuracy: 0.7673 - auc_7: 0.8299 - val_loss: 1.4738 - val_accuracy: 0.5689 - val_auc_7: 0.5566\n",
            "Epoch 19/20\n",
            "633/633 [==============================] - 150s 236ms/step - loss: 0.6578 - accuracy: 0.7863 - auc_7: 0.8572 - val_loss: 1.5133 - val_accuracy: 0.5769 - val_auc_7: 0.5517\n",
            "Epoch 20/20\n",
            "633/633 [==============================] - 150s 237ms/step - loss: 0.6035 - accuracy: 0.8016 - auc_7: 0.8683 - val_loss: 1.5449 - val_accuracy: 0.5644 - val_auc_7: 0.5521\n"
          ],
          "name": "stdout"
        },
        {
          "output_type": "stream",
          "text": [
            "/usr/local/lib/python3.7/dist-packages/tensorflow/python/keras/engine/training.py:1905: UserWarning: `Model.predict_generator` is deprecated and will be removed in a future version. Please use `Model.predict`, which supports generators.\n",
            "  warnings.warn('`Model.predict_generator` is deprecated and '\n"
          ],
          "name": "stderr"
        },
        {
          "output_type": "stream",
          "text": [
            "71/71 [==============================] - 12s 127ms/step\n",
            "\n",
            "\n",
            "***Performance on Validation data***\n",
            "Mean Average Precision: 0.5609236555758318\n",
            "\n",
            "\n",
            "\n",
            "Results for fold 9\n",
            "Found 10128 images belonging to 14 classes.\n",
            "Found 1125 images belonging to 14 classes.\n"
          ],
          "name": "stdout"
        },
        {
          "output_type": "stream",
          "text": [
            "/usr/local/lib/python3.7/dist-packages/tensorflow/python/keras/engine/training.py:1844: UserWarning: `Model.fit_generator` is deprecated and will be removed in a future version. Please use `Model.fit`, which supports generators.\n",
            "  warnings.warn('`Model.fit_generator` is deprecated and '\n"
          ],
          "name": "stderr"
        },
        {
          "output_type": "stream",
          "text": [
            "Epoch 1/20\n",
            "200/633 [========>.....................] - ETA: 1:36 - loss: 3.3095 - accuracy: 0.0884 - auc_8: 0.0805"
          ],
          "name": "stdout"
        },
        {
          "output_type": "stream",
          "text": [
            "/usr/local/lib/python3.7/dist-packages/PIL/TiffImagePlugin.py:770: UserWarning: Possibly corrupt EXIF data.  Expecting to read 11046 bytes but only got 749. Skipping tag 700\n",
            "  \" Skipping tag %s\" % (size, len(data), tag)\n",
            "/usr/local/lib/python3.7/dist-packages/PIL/TiffImagePlugin.py:770: UserWarning: Possibly corrupt EXIF data.  Expecting to read 9664 bytes but only got 749. Skipping tag 34377\n",
            "  \" Skipping tag %s\" % (size, len(data), tag)\n"
          ],
          "name": "stderr"
        },
        {
          "output_type": "stream",
          "text": [
            "558/633 [=========================>....] - ETA: 16s - loss: 3.0326 - accuracy: 0.1005 - auc_8: 0.0817"
          ],
          "name": "stdout"
        },
        {
          "output_type": "stream",
          "text": [
            "/usr/local/lib/python3.7/dist-packages/PIL/TiffImagePlugin.py:770: UserWarning: Possibly corrupt EXIF data.  Expecting to read 211288080 bytes but only got 0. Skipping tag 0\n",
            "  \" Skipping tag %s\" % (size, len(data), tag)\n",
            "/usr/local/lib/python3.7/dist-packages/PIL/TiffImagePlugin.py:770: UserWarning: Possibly corrupt EXIF data.  Expecting to read 131073 bytes but only got 10470. Skipping tag 582\n",
            "  \" Skipping tag %s\" % (size, len(data), tag)\n",
            "/usr/local/lib/python3.7/dist-packages/PIL/TiffImagePlugin.py:770: UserWarning: Possibly corrupt EXIF data.  Expecting to read 196867 bytes but only got 10474. Skipping tag 0\n",
            "  \" Skipping tag %s\" % (size, len(data), tag)\n",
            "/usr/local/lib/python3.7/dist-packages/PIL/TiffImagePlugin.py:788: UserWarning: Corrupt EXIF data.  Expecting to read 12 bytes but only got 5. \n",
            "  warnings.warn(str(msg))\n"
          ],
          "name": "stderr"
        },
        {
          "output_type": "stream",
          "text": [
            "633/633 [==============================] - 176s 242ms/step - loss: 3.0014 - accuracy: 0.1021 - auc_8: 0.0822 - val_loss: 2.4693 - val_accuracy: 0.2204 - val_auc_8: 0.1647\n",
            "Epoch 2/20\n",
            "633/633 [==============================] - 150s 236ms/step - loss: 2.5182 - accuracy: 0.1587 - auc_8: 0.1214 - val_loss: 2.2165 - val_accuracy: 0.3058 - val_auc_8: 0.2532\n",
            "Epoch 3/20\n",
            "633/633 [==============================] - 150s 236ms/step - loss: 2.3292 - accuracy: 0.2389 - auc_8: 0.1899 - val_loss: 2.0103 - val_accuracy: 0.3813 - val_auc_8: 0.3353\n",
            "Epoch 4/20\n",
            "633/633 [==============================] - 150s 237ms/step - loss: 2.1492 - accuracy: 0.3049 - auc_8: 0.2525 - val_loss: 1.8549 - val_accuracy: 0.4284 - val_auc_8: 0.3821\n",
            "Epoch 5/20\n",
            "633/633 [==============================] - 151s 239ms/step - loss: 1.9874 - accuracy: 0.3516 - auc_8: 0.3099 - val_loss: 1.7766 - val_accuracy: 0.4462 - val_auc_8: 0.4228\n",
            "Epoch 6/20\n",
            "633/633 [==============================] - 153s 241ms/step - loss: 1.8735 - accuracy: 0.3896 - auc_8: 0.3541 - val_loss: 1.6733 - val_accuracy: 0.4844 - val_auc_8: 0.4574\n",
            "Epoch 7/20\n",
            "633/633 [==============================] - 151s 239ms/step - loss: 1.7405 - accuracy: 0.4348 - auc_8: 0.4221 - val_loss: 1.5887 - val_accuracy: 0.5111 - val_auc_8: 0.4975\n",
            "Epoch 8/20\n",
            "633/633 [==============================] - 151s 238ms/step - loss: 1.6165 - accuracy: 0.4779 - auc_8: 0.4689 - val_loss: 1.5454 - val_accuracy: 0.5271 - val_auc_8: 0.5134\n",
            "Epoch 9/20\n",
            "633/633 [==============================] - 151s 238ms/step - loss: 1.5135 - accuracy: 0.5064 - auc_8: 0.5112 - val_loss: 1.5138 - val_accuracy: 0.5422 - val_auc_8: 0.5257\n",
            "Epoch 10/20\n",
            "633/633 [==============================] - 153s 241ms/step - loss: 1.4121 - accuracy: 0.5532 - auc_8: 0.5608 - val_loss: 1.4971 - val_accuracy: 0.5413 - val_auc_8: 0.5338\n",
            "Epoch 11/20\n",
            "633/633 [==============================] - 152s 241ms/step - loss: 1.3344 - accuracy: 0.5728 - auc_8: 0.5963 - val_loss: 1.4827 - val_accuracy: 0.5378 - val_auc_8: 0.5429\n",
            "Epoch 12/20\n",
            "633/633 [==============================] - 152s 241ms/step - loss: 1.2336 - accuracy: 0.6056 - auc_8: 0.6366 - val_loss: 1.4612 - val_accuracy: 0.5582 - val_auc_8: 0.5521\n",
            "Epoch 13/20\n",
            "633/633 [==============================] - 152s 240ms/step - loss: 1.1275 - accuracy: 0.6385 - auc_8: 0.6717 - val_loss: 1.4630 - val_accuracy: 0.5520 - val_auc_8: 0.5560\n",
            "Epoch 14/20\n",
            "633/633 [==============================] - 152s 240ms/step - loss: 1.0474 - accuracy: 0.6629 - auc_8: 0.7134 - val_loss: 1.4470 - val_accuracy: 0.5582 - val_auc_8: 0.5654\n",
            "Epoch 15/20\n",
            "633/633 [==============================] - 152s 240ms/step - loss: 0.9892 - accuracy: 0.6867 - auc_8: 0.7297 - val_loss: 1.4776 - val_accuracy: 0.5582 - val_auc_8: 0.5625\n",
            "Epoch 16/20\n",
            "633/633 [==============================] - 151s 239ms/step - loss: 0.9091 - accuracy: 0.7142 - auc_8: 0.7581 - val_loss: 1.4609 - val_accuracy: 0.5662 - val_auc_8: 0.5737\n",
            "Epoch 17/20\n",
            "633/633 [==============================] - 151s 239ms/step - loss: 0.8507 - accuracy: 0.7246 - auc_8: 0.7815 - val_loss: 1.4852 - val_accuracy: 0.5671 - val_auc_8: 0.5754\n",
            "Epoch 18/20\n",
            "633/633 [==============================] - 151s 238ms/step - loss: 0.7636 - accuracy: 0.7548 - auc_8: 0.8178 - val_loss: 1.4805 - val_accuracy: 0.5627 - val_auc_8: 0.5750\n",
            "Epoch 19/20\n",
            "633/633 [==============================] - 152s 240ms/step - loss: 0.6908 - accuracy: 0.7737 - auc_8: 0.8427 - val_loss: 1.5250 - val_accuracy: 0.5591 - val_auc_8: 0.5789\n",
            "Epoch 20/20\n",
            "633/633 [==============================] - 151s 238ms/step - loss: 0.6354 - accuracy: 0.7918 - auc_8: 0.8641 - val_loss: 1.5604 - val_accuracy: 0.5547 - val_auc_8: 0.5754\n"
          ],
          "name": "stdout"
        },
        {
          "output_type": "stream",
          "text": [
            "/usr/local/lib/python3.7/dist-packages/tensorflow/python/keras/engine/training.py:1905: UserWarning: `Model.predict_generator` is deprecated and will be removed in a future version. Please use `Model.predict`, which supports generators.\n",
            "  warnings.warn('`Model.predict_generator` is deprecated and '\n"
          ],
          "name": "stderr"
        },
        {
          "output_type": "stream",
          "text": [
            "71/71 [==============================] - 12s 130ms/step\n",
            "\n",
            "\n",
            "***Performance on Validation data***\n",
            "Mean Average Precision: 0.5837739232765985\n",
            "\n",
            "\n",
            "\n",
            "Results for fold 10\n",
            "Found 10128 images belonging to 14 classes.\n",
            "Found 1125 images belonging to 14 classes.\n"
          ],
          "name": "stdout"
        },
        {
          "output_type": "stream",
          "text": [
            "/usr/local/lib/python3.7/dist-packages/tensorflow/python/keras/engine/training.py:1844: UserWarning: `Model.fit_generator` is deprecated and will be removed in a future version. Please use `Model.fit`, which supports generators.\n",
            "  warnings.warn('`Model.fit_generator` is deprecated and '\n"
          ],
          "name": "stderr"
        },
        {
          "output_type": "stream",
          "text": [
            "Epoch 1/20\n",
            " 78/633 [==>...........................] - ETA: 2:04 - loss: 3.5424 - accuracy: 0.0688 - auc_9: 0.0778"
          ],
          "name": "stdout"
        },
        {
          "output_type": "stream",
          "text": [
            "/usr/local/lib/python3.7/dist-packages/PIL/TiffImagePlugin.py:770: UserWarning: Possibly corrupt EXIF data.  Expecting to read 211288080 bytes but only got 0. Skipping tag 0\n",
            "  \" Skipping tag %s\" % (size, len(data), tag)\n",
            "/usr/local/lib/python3.7/dist-packages/PIL/TiffImagePlugin.py:770: UserWarning: Possibly corrupt EXIF data.  Expecting to read 131073 bytes but only got 10470. Skipping tag 582\n",
            "  \" Skipping tag %s\" % (size, len(data), tag)\n",
            "/usr/local/lib/python3.7/dist-packages/PIL/TiffImagePlugin.py:770: UserWarning: Possibly corrupt EXIF data.  Expecting to read 196867 bytes but only got 10474. Skipping tag 0\n",
            "  \" Skipping tag %s\" % (size, len(data), tag)\n",
            "/usr/local/lib/python3.7/dist-packages/PIL/TiffImagePlugin.py:788: UserWarning: Corrupt EXIF data.  Expecting to read 12 bytes but only got 5. \n",
            "  warnings.warn(str(msg))\n"
          ],
          "name": "stderr"
        },
        {
          "output_type": "stream",
          "text": [
            "556/633 [=========================>....] - ETA: 17s - loss: 3.0294 - accuracy: 0.0881 - auc_9: 0.0770"
          ],
          "name": "stdout"
        },
        {
          "output_type": "stream",
          "text": [
            "/usr/local/lib/python3.7/dist-packages/PIL/TiffImagePlugin.py:770: UserWarning: Possibly corrupt EXIF data.  Expecting to read 11046 bytes but only got 749. Skipping tag 700\n",
            "  \" Skipping tag %s\" % (size, len(data), tag)\n",
            "/usr/local/lib/python3.7/dist-packages/PIL/TiffImagePlugin.py:770: UserWarning: Possibly corrupt EXIF data.  Expecting to read 9664 bytes but only got 749. Skipping tag 34377\n",
            "  \" Skipping tag %s\" % (size, len(data), tag)\n"
          ],
          "name": "stderr"
        },
        {
          "output_type": "stream",
          "text": [
            "633/633 [==============================] - 177s 244ms/step - loss: 2.9977 - accuracy: 0.0904 - auc_9: 0.0775 - val_loss: 2.4769 - val_accuracy: 0.1938 - val_auc_9: 0.1718\n",
            "Epoch 2/20\n",
            "633/633 [==============================] - 151s 238ms/step - loss: 2.5199 - accuracy: 0.1631 - auc_9: 0.1189 - val_loss: 2.2364 - val_accuracy: 0.2924 - val_auc_9: 0.2581\n",
            "Epoch 3/20\n",
            "633/633 [==============================] - 151s 239ms/step - loss: 2.3386 - accuracy: 0.2313 - auc_9: 0.1850 - val_loss: 2.0135 - val_accuracy: 0.3787 - val_auc_9: 0.3517\n",
            "Epoch 4/20\n",
            "633/633 [==============================] - 151s 238ms/step - loss: 2.1566 - accuracy: 0.3012 - auc_9: 0.2518 - val_loss: 1.8628 - val_accuracy: 0.4133 - val_auc_9: 0.4170\n",
            "Epoch 5/20\n",
            "633/633 [==============================] - 151s 239ms/step - loss: 1.9711 - accuracy: 0.3585 - auc_9: 0.3129 - val_loss: 1.7382 - val_accuracy: 0.4764 - val_auc_9: 0.4645\n",
            "Epoch 6/20\n",
            "633/633 [==============================] - 151s 238ms/step - loss: 1.8461 - accuracy: 0.4005 - auc_9: 0.3729 - val_loss: 1.6522 - val_accuracy: 0.4764 - val_auc_9: 0.4914\n",
            "Epoch 7/20\n",
            "633/633 [==============================] - 151s 238ms/step - loss: 1.7348 - accuracy: 0.4450 - auc_9: 0.4217 - val_loss: 1.5849 - val_accuracy: 0.5031 - val_auc_9: 0.5162\n",
            "Epoch 8/20\n",
            "633/633 [==============================] - 151s 239ms/step - loss: 1.6141 - accuracy: 0.4846 - auc_9: 0.4694 - val_loss: 1.5295 - val_accuracy: 0.5316 - val_auc_9: 0.5274\n",
            "Epoch 9/20\n",
            "633/633 [==============================] - 152s 239ms/step - loss: 1.5319 - accuracy: 0.5074 - auc_9: 0.5035 - val_loss: 1.4854 - val_accuracy: 0.5333 - val_auc_9: 0.5416\n",
            "Epoch 10/20\n",
            "633/633 [==============================] - 151s 239ms/step - loss: 1.4175 - accuracy: 0.5391 - auc_9: 0.5452 - val_loss: 1.4685 - val_accuracy: 0.5396 - val_auc_9: 0.5482\n",
            "Epoch 11/20\n",
            "633/633 [==============================] - 151s 239ms/step - loss: 1.3244 - accuracy: 0.5811 - auc_9: 0.5930 - val_loss: 1.4522 - val_accuracy: 0.5529 - val_auc_9: 0.5582\n",
            "Epoch 12/20\n",
            "633/633 [==============================] - 151s 238ms/step - loss: 1.2438 - accuracy: 0.6054 - auc_9: 0.6221 - val_loss: 1.4333 - val_accuracy: 0.5582 - val_auc_9: 0.5681\n",
            "Epoch 13/20\n",
            "633/633 [==============================] - 151s 239ms/step - loss: 1.1554 - accuracy: 0.6285 - auc_9: 0.6648 - val_loss: 1.4539 - val_accuracy: 0.5573 - val_auc_9: 0.5684\n",
            "Epoch 14/20\n",
            "633/633 [==============================] - 151s 238ms/step - loss: 1.0510 - accuracy: 0.6589 - auc_9: 0.7013 - val_loss: 1.4344 - val_accuracy: 0.5591 - val_auc_9: 0.5821\n",
            "Epoch 15/20\n",
            "633/633 [==============================] - 151s 239ms/step - loss: 0.9911 - accuracy: 0.6790 - auc_9: 0.7192 - val_loss: 1.4397 - val_accuracy: 0.5698 - val_auc_9: 0.5801\n",
            "Epoch 16/20\n",
            "633/633 [==============================] - 152s 239ms/step - loss: 0.9077 - accuracy: 0.7072 - auc_9: 0.7553 - val_loss: 1.4688 - val_accuracy: 0.5618 - val_auc_9: 0.5835\n",
            "Epoch 17/20\n",
            "633/633 [==============================] - 151s 239ms/step - loss: 0.8433 - accuracy: 0.7312 - auc_9: 0.7788 - val_loss: 1.4710 - val_accuracy: 0.5769 - val_auc_9: 0.5867\n",
            "Epoch 18/20\n",
            "633/633 [==============================] - 151s 239ms/step - loss: 0.7414 - accuracy: 0.7628 - auc_9: 0.8190 - val_loss: 1.4797 - val_accuracy: 0.5751 - val_auc_9: 0.5849\n",
            "Epoch 19/20\n",
            "633/633 [==============================] - 151s 238ms/step - loss: 0.6810 - accuracy: 0.7820 - auc_9: 0.8343 - val_loss: 1.5529 - val_accuracy: 0.5680 - val_auc_9: 0.5825\n",
            "Epoch 20/20\n",
            "633/633 [==============================] - 151s 238ms/step - loss: 0.6408 - accuracy: 0.7904 - auc_9: 0.8552 - val_loss: 1.5159 - val_accuracy: 0.5742 - val_auc_9: 0.5880\n"
          ],
          "name": "stdout"
        },
        {
          "output_type": "stream",
          "text": [
            "/usr/local/lib/python3.7/dist-packages/tensorflow/python/keras/engine/training.py:1905: UserWarning: `Model.predict_generator` is deprecated and will be removed in a future version. Please use `Model.predict`, which supports generators.\n",
            "  warnings.warn('`Model.predict_generator` is deprecated and '\n"
          ],
          "name": "stderr"
        },
        {
          "output_type": "stream",
          "text": [
            "71/71 [==============================] - 13s 130ms/step\n",
            "\n",
            "\n",
            "***Performance on Validation data***\n",
            "Mean Average Precision: 0.5964066950174683\n",
            "\n",
            "\n",
            "\n"
          ],
          "name": "stdout"
        }
      ]
    }
  ]
}